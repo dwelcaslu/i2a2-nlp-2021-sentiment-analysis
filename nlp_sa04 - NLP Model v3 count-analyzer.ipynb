{
 "cells": [
  {
   "cell_type": "code",
   "execution_count": 1,
   "metadata": {
    "colab": {
     "base_uri": "https://localhost:8080/"
    },
    "executionInfo": {
     "elapsed": 620,
     "status": "ok",
     "timestamp": 1619739144428,
     "user": {
      "displayName": "Lucas Cunha",
      "photoUrl": "https://lh3.googleusercontent.com/a-/AOh14GjTd3EBIxXr8O8LdNhC2abfwcqDQU3ZEIcwIw8fEDM=s64",
      "userId": "13851762687289508492"
     },
     "user_tz": 180
    },
    "id": "aDsx0Ebvqq7W",
    "outputId": "df2dab36-a023-4619-cf5b-6e8fe50953b7"
   },
   "outputs": [
    {
     "name": "stderr",
     "output_type": "stream",
     "text": [
      "[nltk_data] Downloading package stopwords to\n",
      "[nltk_data]     C:\\Users\\weldl\\AppData\\Roaming\\nltk_data...\n",
      "[nltk_data]   Package stopwords is already up-to-date!\n",
      "[nltk_data] Downloading package stopwords to\n",
      "[nltk_data]     C:\\Users\\weldl\\AppData\\Roaming\\nltk_data...\n",
      "[nltk_data]   Package stopwords is already up-to-date!\n",
      "[nltk_data] Downloading package wordnet to\n",
      "[nltk_data]     C:\\Users\\weldl\\AppData\\Roaming\\nltk_data...\n",
      "[nltk_data]   Package wordnet is already up-to-date!\n"
     ]
    }
   ],
   "source": [
    "import os, zipfile\n",
    "from zipfile import ZipFile\n",
    "\n",
    "import matplotlib.pyplot as plt\n",
    "import numpy as np\n",
    "import pandas as pd\n",
    "\n",
    "from sklearn.compose import ColumnTransformer\n",
    "from sklearn.ensemble import RandomForestClassifier\n",
    "from sklearn.feature_extraction.text import CountVectorizer, TfidfVectorizer\n",
    "from sklearn.impute import SimpleImputer\n",
    "from sklearn.linear_model import LogisticRegression\n",
    "from sklearn.model_selection import train_test_split, RandomizedSearchCV\n",
    "from sklearn.neighbors import KNeighborsClassifier\n",
    "from sklearn.pipeline import Pipeline\n",
    "from sklearn.preprocessing import OneHotEncoder, MinMaxScaler\n",
    "from sklearn.svm import SVC\n",
    "\n",
    "import nltk\n",
    "from nltk.corpus import stopwords\n",
    "nltk.download('stopwords')\n",
    "\n",
    "from preprocessing import SelectMajorCategories\n",
    "from visualizations import *\n",
    "from language import *"
   ]
  },
  {
   "cell_type": "code",
   "execution_count": null,
   "metadata": {
    "executionInfo": {
     "elapsed": 1535,
     "status": "ok",
     "timestamp": 1619736503131,
     "user": {
      "displayName": "Lucas Cunha",
      "photoUrl": "https://lh3.googleusercontent.com/a-/AOh14GjTd3EBIxXr8O8LdNhC2abfwcqDQU3ZEIcwIw8fEDM=s64",
      "userId": "13851762687289508492"
     },
     "user_tz": 180
    },
    "id": "xFCSemppqwLF"
   },
   "outputs": [],
   "source": []
  },
  {
   "cell_type": "markdown",
   "metadata": {
    "id": "FCA4U2cooqMl"
   },
   "source": [
    "# Montando o setup do Kaggle"
   ]
  },
  {
   "cell_type": "code",
   "execution_count": 2,
   "metadata": {
    "executionInfo": {
     "elapsed": 1529,
     "status": "ok",
     "timestamp": 1619736503132,
     "user": {
      "displayName": "Lucas Cunha",
      "photoUrl": "https://lh3.googleusercontent.com/a-/AOh14GjTd3EBIxXr8O8LdNhC2abfwcqDQU3ZEIcwIw8fEDM=s64",
      "userId": "13851762687289508492"
     },
     "user_tz": 180
    },
    "id": "kG9qN8HcoUzg"
   },
   "outputs": [],
   "source": [
    "if 'google.colab' in str(get_ipython()):\n",
    "    os.environ['KAGGLE_CONFIG_DIR'] = \"/content/drive/My Drive/Kaggle/\"\n",
    "    on_colab = True\n",
    "    ! pip install kaggle --upgrade\n",
    "else:\n",
    "    os.environ['KAGGLE_CONFIG_DIR'] = \"../../Kaggle/\"\n",
    "    on_colab = False"
   ]
  },
  {
   "cell_type": "code",
   "execution_count": 3,
   "metadata": {
    "colab": {
     "base_uri": "https://localhost:8080/"
    },
    "executionInfo": {
     "elapsed": 6721,
     "status": "ok",
     "timestamp": 1619736508339,
     "user": {
      "displayName": "Lucas Cunha",
      "photoUrl": "https://lh3.googleusercontent.com/a-/AOh14GjTd3EBIxXr8O8LdNhC2abfwcqDQU3ZEIcwIw8fEDM=s64",
      "userId": "13851762687289508492"
     },
     "user_tz": 180
    },
    "id": "4mlcJAWqodUV",
    "outputId": "d4f9c048-058f-4eeb-962a-3d3aa8cb05ca"
   },
   "outputs": [],
   "source": [
    "# Downloading and extracting the data from Kaggle\n",
    "if on_colab:\n",
    "    dataset_folder = \"./\"\n",
    "    ! kaggle competitions download -c i2a2-nlp-2021-sentiment-analysis\n",
    "    ! unzip -q i2a2-nlp-2021-sentiment-analysis.zip -d \"./i2a2-nlp-2021-sentiment-analysis/\"\n",
    "    ! rm i2a2-nlp-2021-sentiment-analysis.zip\n",
    "else:\n",
    "    dataset_folder = \"C:\\\\Users\\\\weldl\\\\datasets\\\\i2a2-nlp-2021-sentiment-analysis\"\n",
    "    if not os.path.isdir(dataset_folder):\n",
    "        ! kaggle competitions download -c i2a2-nlp-2021-sentiment-analysis -p \"C:\\\\Users\\\\weldl\\\\datasets\"\n",
    "        # Create a ZipFile Object and load sample.zip in it\n",
    "        zip_file = dataset_folder + \".zip\"\n",
    "        with ZipFile(zip_file, 'r') as zipObj:\n",
    "           # Extract all the contents of zip file in different directory\n",
    "           zipObj.extractall(dataset_folder)\n",
    "        os.remove(zip_file)"
   ]
  },
  {
   "cell_type": "code",
   "execution_count": 4,
   "metadata": {
    "executionInfo": {
     "elapsed": 7787,
     "status": "ok",
     "timestamp": 1619736509413,
     "user": {
      "displayName": "Lucas Cunha",
      "photoUrl": "https://lh3.googleusercontent.com/a-/AOh14GjTd3EBIxXr8O8LdNhC2abfwcqDQU3ZEIcwIw8fEDM=s64",
      "userId": "13851762687289508492"
     },
     "user_tz": 180
    },
    "id": "svthzSjTq2L-"
   },
   "outputs": [],
   "source": [
    "df_train = pd.read_csv(os.path.join(dataset_folder, \"train.csv\"), low_memory=False)\n",
    "df_test = pd.read_csv(os.path.join(dataset_folder, \"test.csv\"), low_memory=False)"
   ]
  },
  {
   "cell_type": "code",
   "execution_count": null,
   "metadata": {
    "executionInfo": {
     "elapsed": 7762,
     "status": "ok",
     "timestamp": 1619736509416,
     "user": {
      "displayName": "Lucas Cunha",
      "photoUrl": "https://lh3.googleusercontent.com/a-/AOh14GjTd3EBIxXr8O8LdNhC2abfwcqDQU3ZEIcwIw8fEDM=s64",
      "userId": "13851762687289508492"
     },
     "user_tz": 180
    },
    "id": "c6fInCNBrrBI"
   },
   "outputs": [],
   "source": []
  },
  {
   "cell_type": "markdown",
   "metadata": {
    "id": "uOnZ5d01qn1-"
   },
   "source": [
    "# Data Preparation:"
   ]
  },
  {
   "cell_type": "code",
   "execution_count": 5,
   "metadata": {
    "executionInfo": {
     "elapsed": 7755,
     "status": "ok",
     "timestamp": 1619736509417,
     "user": {
      "displayName": "Lucas Cunha",
      "photoUrl": "https://lh3.googleusercontent.com/a-/AOh14GjTd3EBIxXr8O8LdNhC2abfwcqDQU3ZEIcwIw8fEDM=s64",
      "userId": "13851762687289508492"
     },
     "user_tz": 180
    },
    "id": "_sp9BFiWzSv7"
   },
   "outputs": [],
   "source": [
    "target_col = 'rating'"
   ]
  },
  {
   "cell_type": "code",
   "execution_count": 6,
   "metadata": {
    "executionInfo": {
     "elapsed": 7750,
     "status": "ok",
     "timestamp": 1619736509417,
     "user": {
      "displayName": "Lucas Cunha",
      "photoUrl": "https://lh3.googleusercontent.com/a-/AOh14GjTd3EBIxXr8O8LdNhC2abfwcqDQU3ZEIcwIw8fEDM=s64",
      "userId": "13851762687289508492"
     },
     "user_tz": 180
    },
    "id": "YqeWPLravIrU"
   },
   "outputs": [],
   "source": [
    "x_train = df_train.drop(columns=[target_col])\n",
    "y_train = df_train[[target_col]]\n",
    "\n",
    "x_test = df_test"
   ]
  },
  {
   "cell_type": "code",
   "execution_count": null,
   "metadata": {
    "executionInfo": {
     "elapsed": 7747,
     "status": "ok",
     "timestamp": 1619736509418,
     "user": {
      "displayName": "Lucas Cunha",
      "photoUrl": "https://lh3.googleusercontent.com/a-/AOh14GjTd3EBIxXr8O8LdNhC2abfwcqDQU3ZEIcwIw8fEDM=s64",
      "userId": "13851762687289508492"
     },
     "user_tz": 180
    },
    "id": "kab6153HvIwu"
   },
   "outputs": [],
   "source": []
  },
  {
   "cell_type": "markdown",
   "metadata": {
    "id": "m6_tysLr0THE"
   },
   "source": [
    "# Pre-processing"
   ]
  },
  {
   "cell_type": "code",
   "execution_count": 7,
   "metadata": {},
   "outputs": [],
   "source": [
    "# Preprocessing text features:\n",
    "text_features = []\n",
    "# review_title:\n",
    "vect_review_title = CountVectorizer(analyzer=clean_text_stem, max_features=500)\n",
    "x_train, x_test, vect_cols = vectorize_column(x_train, x_test, 'review_title',\n",
    "                                               vect_review_title, vectorizer_name='count')\n",
    "text_features += vect_cols\n",
    "# review_text:\n",
    "vect_review_text = CountVectorizer(analyzer=clean_text_stem, max_features=1000)\n",
    "x_train, x_test, vect_cols = vectorize_column(x_train, x_test, 'review_text',\n",
    "                                               vect_review_text, vectorizer_name='count')\n",
    "text_features += vect_cols"
   ]
  },
  {
   "cell_type": "code",
   "execution_count": 8,
   "metadata": {},
   "outputs": [],
   "source": [
    "# Encoding other columns:\n",
    "\n",
    "# Features groups:\n",
    "cat_features = []\n",
    "num_float_features = []\n",
    "passthrough_features = []\n",
    "\n",
    "# Features transformers:\n",
    "# cat_transformer = ('cat', Pipeline([('cat_imputer', SimpleImputer(missing_values=np.nan, strategy='constant', fill_value='none')),\n",
    "#                                     ('one-hot', OneHotEncoder(handle_unknown='ignore'))]), cat_features)\n",
    "# num_float_transformer = ('num_float', Pipeline([('num_float_imputer', SimpleImputer(missing_values=np.nan, strategy='mean')), \n",
    "#                                                 ('num_float_scaler', MinMaxScaler()),]), num_float_features)\n",
    "text_features_transformer = ('text_features', Pipeline([('text_features_imputer', SimpleImputer(missing_values=np.nan, strategy='mean')),\n",
    "                                                        ('text_features_scaler', MinMaxScaler()),]), text_features)\n",
    "# passthrough_transformer = ('passthrough', 'passthrough', passthrough_features)\n",
    "\n",
    "transformers = [text_features_transformer]\n",
    "# transformers = [cat_transformer, num_float_transformer, passthrough_transformer]\n",
    "feat_encoding = ColumnTransformer(transformers, remainder='drop')"
   ]
  },
  {
   "cell_type": "code",
   "execution_count": 9,
   "metadata": {
    "executionInfo": {
     "elapsed": 38127,
     "status": "ok",
     "timestamp": 1619736539841,
     "user": {
      "displayName": "Lucas Cunha",
      "photoUrl": "https://lh3.googleusercontent.com/a-/AOh14GjTd3EBIxXr8O8LdNhC2abfwcqDQU3ZEIcwIw8fEDM=s64",
      "userId": "13851762687289508492"
     },
     "user_tz": 180
    },
    "id": "LAf4W5sYqIGz"
   },
   "outputs": [],
   "source": [
    "# Pre-processing pipeline:\n",
    "preprocessor = Pipeline([('features encoding', feat_encoding)])"
   ]
  },
  {
   "cell_type": "code",
   "execution_count": 10,
   "metadata": {
    "executionInfo": {
     "elapsed": 38859,
     "status": "ok",
     "timestamp": 1619736540577,
     "user": {
      "displayName": "Lucas Cunha",
      "photoUrl": "https://lh3.googleusercontent.com/a-/AOh14GjTd3EBIxXr8O8LdNhC2abfwcqDQU3ZEIcwIw8fEDM=s64",
      "userId": "13851762687289508492"
     },
     "user_tz": 180
    },
    "id": "r2fQ-B_XIrLf"
   },
   "outputs": [],
   "source": [
    "x_train_encoded = preprocessor.fit_transform(x_train.loc[:, x_test.columns])\n",
    "x_test_encoded = preprocessor.transform(x_test.loc[:, x_test.columns])"
   ]
  },
  {
   "cell_type": "code",
   "execution_count": null,
   "metadata": {},
   "outputs": [],
   "source": []
  },
  {
   "cell_type": "markdown",
   "metadata": {
    "id": "OeHaFymZ-ru_"
   },
   "source": [
    "# Model Training"
   ]
  },
  {
   "cell_type": "code",
   "execution_count": 11,
   "metadata": {},
   "outputs": [],
   "source": [
    "n_jobs = 4"
   ]
  },
  {
   "cell_type": "code",
   "execution_count": 12,
   "metadata": {
    "colab": {
     "base_uri": "https://localhost:8080/"
    },
    "executionInfo": {
     "elapsed": 135558,
     "status": "ok",
     "timestamp": 1619736637286,
     "user": {
      "displayName": "Lucas Cunha",
      "photoUrl": "https://lh3.googleusercontent.com/a-/AOh14GjTd3EBIxXr8O8LdNhC2abfwcqDQU3ZEIcwIw8fEDM=s64",
      "userId": "13851762687289508492"
     },
     "user_tz": 180
    },
    "id": "jOKH29JHThFV",
    "outputId": "f5a7b2f0-e785-4300-9b65-cc3ee23f7f0f"
   },
   "outputs": [
    {
     "name": "stdout",
     "output_type": "stream",
     "text": [
      "Fitting 5 folds for each of 12 candidates, totalling 60 fits\n"
     ]
    },
    {
     "name": "stderr",
     "output_type": "stream",
     "text": [
      "c:\\users\\weldl\\miniconda3\\envs\\i2a2-nlp\\lib\\site-packages\\sklearn\\model_selection\\_search.py:880: DataConversionWarning: A column-vector y was passed when a 1d array was expected. Please change the shape of y to (n_samples,), for example using ravel().\n",
      "  self.best_estimator_.fit(X, y, **fit_params)\n"
     ]
    }
   ],
   "source": [
    "# Create the parameter grid based on the results of random search \n",
    "param_grid = {\n",
    "    'bootstrap': [True, False],\n",
    "    'max_depth': [5, 10, 20, 30, 40, 50],\n",
    "    'max_features': [\"auto\"],\n",
    "    'min_samples_leaf': [1, 2, 3, 4, 5, 6, 7, 8, 9, 10],\n",
    "    'min_samples_split': [8, 10, 12, 14, 16],\n",
    "    'n_estimators': [1, 5, 10, 20, 30, 40, 50],\n",
    "}\n",
    "\n",
    "# Create a based model\n",
    "rf = RandomForestClassifier()\n",
    "# Instantiate the grid search model\n",
    "clf_rf = RandomizedSearchCV(estimator=rf, param_distributions=param_grid,\n",
    "                         cv=5, n_jobs=n_jobs, verbose=2, n_iter=12)\n",
    "clf_rf.fit(x_train_encoded, y_train)\n",
    "rf_metrics = pd.DataFrame(clf_rf.cv_results_)"
   ]
  },
  {
   "cell_type": "code",
   "execution_count": 13,
   "metadata": {},
   "outputs": [
    {
     "name": "stdout",
     "output_type": "stream",
     "text": [
      "Fitting 5 folds for each of 4 candidates, totalling 20 fits\n"
     ]
    },
    {
     "name": "stderr",
     "output_type": "stream",
     "text": [
      "c:\\users\\weldl\\miniconda3\\envs\\i2a2-nlp\\lib\\site-packages\\sklearn\\utils\\validation.py:63: DataConversionWarning: A column-vector y was passed when a 1d array was expected. Please change the shape of y to (n_samples, ), for example using ravel().\n",
      "  return f(*args, **kwargs)\n"
     ]
    }
   ],
   "source": [
    "# Create the parameter grid based on the results of random search \n",
    "param_grid = {'C': [0.001, 0.01, 0.1, 1, 10, 100, 1000],\n",
    "              'penalty': ['l1', 'l2'],\n",
    "              'max_iter': list(range(100, 800, 100)),\n",
    "              'solver': ['newton-cg', 'lbfgs', 'liblinear', 'sag', 'saga']}\n",
    "\n",
    "# Create a based model\n",
    "lrc = LogisticRegression()\n",
    "# Instantiate the grid search model\n",
    "clf_lrc = RandomizedSearchCV(estimator=lrc, param_distributions=param_grid,\n",
    "                             cv=5, n_jobs=n_jobs, verbose=2, n_iter=4)\n",
    "clf_lrc.fit(x_train_encoded, y_train)\n",
    "lrc_metrics = pd.DataFrame(clf_lrc.cv_results_)"
   ]
  },
  {
   "cell_type": "code",
   "execution_count": 14,
   "metadata": {
    "executionInfo": {
     "elapsed": 2625234,
     "status": "aborted",
     "timestamp": 1619739126969,
     "user": {
      "displayName": "Lucas Cunha",
      "photoUrl": "https://lh3.googleusercontent.com/a-/AOh14GjTd3EBIxXr8O8LdNhC2abfwcqDQU3ZEIcwIw8fEDM=s64",
      "userId": "13851762687289508492"
     },
     "user_tz": 180
    },
    "id": "V5M42p1bCLGP"
   },
   "outputs": [
    {
     "data": {
      "image/png": "[encoded data removed]",
      "text/plain": [
       "<Figure size 576x288 with 1 Axes>"
      ]
     },
     "metadata": {
      "needs_background": "light"
     },
     "output_type": "display_data"
    }
   ],
   "source": [
    "estimators_list = [clf_rf, clf_lrc]\n",
    "plot_estimators_cvperf(estimators_list)"
   ]
  },
  {
   "cell_type": "code",
   "execution_count": 16,
   "metadata": {
    "executionInfo": {
     "elapsed": 2625222,
     "status": "aborted",
     "timestamp": 1619739126973,
     "user": {
      "displayName": "Lucas Cunha",
      "photoUrl": "https://lh3.googleusercontent.com/a-/AOh14GjTd3EBIxXr8O8LdNhC2abfwcqDQU3ZEIcwIw8fEDM=s64",
      "userId": "13851762687289508492"
     },
     "user_tz": 180
    },
    "id": "zbSaIeGgEZyO"
   },
   "outputs": [
    {
     "name": "stderr",
     "output_type": "stream",
     "text": [
      "c:\\users\\weldl\\miniconda3\\envs\\i2a2-nlp\\lib\\site-packages\\sklearn\\utils\\validation.py:63: DataConversionWarning: A column-vector y was passed when a 1d array was expected. Please change the shape of y to (n_samples, ), for example using ravel().\n",
      "  return f(*args, **kwargs)\n"
     ]
    },
    {
     "data": {
      "text/plain": [
       "LogisticRegression(C=100, max_iter=700, solver='liblinear')"
      ]
     },
     "execution_count": 16,
     "metadata": {},
     "output_type": "execute_result"
    }
   ],
   "source": [
    "# Selecting the optimal model and Re-fiting with the whole training dataset:\n",
    "estimators_cvperf = [pd.DataFrame(estimator.cv_results_)['mean_test_score'].max() for estimator in estimators_list]\n",
    "clf_opt = estimators_list[np.argmax(estimators_cvperf)]\n",
    "model = clf_opt.best_estimator_.fit(x_train_encoded, y_train)\n",
    "model"
   ]
  },
  {
   "cell_type": "code",
   "execution_count": 17,
   "metadata": {},
   "outputs": [
    {
     "data": {
      "text/plain": [
       "[0.6059723201701251, 0.6368374925196582]"
      ]
     },
     "execution_count": 17,
     "metadata": {},
     "output_type": "execute_result"
    }
   ],
   "source": [
    "estimators_cvperf"
   ]
  },
  {
   "cell_type": "code",
   "execution_count": null,
   "metadata": {},
   "outputs": [],
   "source": []
  },
  {
   "cell_type": "markdown",
   "metadata": {
    "id": "Q4ZjjZ5CGgBH"
   },
   "source": [
    "# Submission"
   ]
  },
  {
   "cell_type": "code",
   "execution_count": 18,
   "metadata": {
    "executionInfo": {
     "elapsed": 2625216,
     "status": "aborted",
     "timestamp": 1619739126974,
     "user": {
      "displayName": "Lucas Cunha",
      "photoUrl": "https://lh3.googleusercontent.com/a-/AOh14GjTd3EBIxXr8O8LdNhC2abfwcqDQU3ZEIcwIw8fEDM=s64",
      "userId": "13851762687289508492"
     },
     "user_tz": 180
    },
    "id": "_el2wl8AFO2N"
   },
   "outputs": [
    {
     "data": {
      "text/html": [
       "<div>\n",
       "<style scoped>\n",
       "    .dataframe tbody tr th:only-of-type {\n",
       "        vertical-align: middle;\n",
       "    }\n",
       "\n",
       "    .dataframe tbody tr th {\n",
       "        vertical-align: top;\n",
       "    }\n",
       "\n",
       "    .dataframe thead th {\n",
       "        text-align: right;\n",
       "    }\n",
       "</style>\n",
       "<table border=\"1\" class=\"dataframe\">\n",
       "  <thead>\n",
       "    <tr style=\"text-align: right;\">\n",
       "      <th></th>\n",
       "      <th>id</th>\n",
       "      <th>rating</th>\n",
       "    </tr>\n",
       "  </thead>\n",
       "  <tbody>\n",
       "    <tr>\n",
       "      <th>0</th>\n",
       "      <td>0</td>\n",
       "      <td>4</td>\n",
       "    </tr>\n",
       "    <tr>\n",
       "      <th>1</th>\n",
       "      <td>1</td>\n",
       "      <td>5</td>\n",
       "    </tr>\n",
       "    <tr>\n",
       "      <th>2</th>\n",
       "      <td>2</td>\n",
       "      <td>3</td>\n",
       "    </tr>\n",
       "    <tr>\n",
       "      <th>3</th>\n",
       "      <td>3</td>\n",
       "      <td>2</td>\n",
       "    </tr>\n",
       "    <tr>\n",
       "      <th>4</th>\n",
       "      <td>4</td>\n",
       "      <td>1</td>\n",
       "    </tr>\n",
       "    <tr>\n",
       "      <th>...</th>\n",
       "      <td>...</td>\n",
       "      <td>...</td>\n",
       "    </tr>\n",
       "    <tr>\n",
       "      <th>39707</th>\n",
       "      <td>39707</td>\n",
       "      <td>1</td>\n",
       "    </tr>\n",
       "    <tr>\n",
       "      <th>39708</th>\n",
       "      <td>39708</td>\n",
       "      <td>5</td>\n",
       "    </tr>\n",
       "    <tr>\n",
       "      <th>39709</th>\n",
       "      <td>39709</td>\n",
       "      <td>2</td>\n",
       "    </tr>\n",
       "    <tr>\n",
       "      <th>39710</th>\n",
       "      <td>39710</td>\n",
       "      <td>4</td>\n",
       "    </tr>\n",
       "    <tr>\n",
       "      <th>39711</th>\n",
       "      <td>39711</td>\n",
       "      <td>3</td>\n",
       "    </tr>\n",
       "  </tbody>\n",
       "</table>\n",
       "<p>39712 rows × 2 columns</p>\n",
       "</div>"
      ],
      "text/plain": [
       "          id  rating\n",
       "0          0       4\n",
       "1          1       5\n",
       "2          2       3\n",
       "3          3       2\n",
       "4          4       1\n",
       "...      ...     ...\n",
       "39707  39707       1\n",
       "39708  39708       5\n",
       "39709  39709       2\n",
       "39710  39710       4\n",
       "39711  39711       3\n",
       "\n",
       "[39712 rows x 2 columns]"
      ]
     },
     "execution_count": 18,
     "metadata": {},
     "output_type": "execute_result"
    }
   ],
   "source": [
    "rating = model.predict(x_test_encoded)\n",
    "df_submission = pd.DataFrame({\"id\": [i for i in range(x_test_encoded.shape[0])],\n",
    "                              \"rating\": rating})\n",
    "df_submission"
   ]
  },
  {
   "cell_type": "code",
   "execution_count": 19,
   "metadata": {
    "executionInfo": {
     "elapsed": 2625209,
     "status": "aborted",
     "timestamp": 1619739126974,
     "user": {
      "displayName": "Lucas Cunha",
      "photoUrl": "https://lh3.googleusercontent.com/a-/AOh14GjTd3EBIxXr8O8LdNhC2abfwcqDQU3ZEIcwIw8fEDM=s64",
      "userId": "13851762687289508492"
     },
     "user_tz": 180
    },
    "id": "RpAF5dHAGrca"
   },
   "outputs": [],
   "source": [
    "submition_file = './submition_file.csv'\n",
    "df_submission.to_csv(submition_file, index=False)"
   ]
  },
  {
   "cell_type": "code",
   "execution_count": 20,
   "metadata": {
    "executionInfo": {
     "elapsed": 2625206,
     "status": "aborted",
     "timestamp": 1619739126975,
     "user": {
      "displayName": "Lucas Cunha",
      "photoUrl": "https://lh3.googleusercontent.com/a-/AOh14GjTd3EBIxXr8O8LdNhC2abfwcqDQU3ZEIcwIw8fEDM=s64",
      "userId": "13851762687289508492"
     },
     "user_tz": 180
    },
    "id": "z6L9kZH5Gpl8"
   },
   "outputs": [],
   "source": [
    "# !kaggle competitions list"
   ]
  },
  {
   "cell_type": "code",
   "execution_count": 21,
   "metadata": {
    "executionInfo": {
     "elapsed": 2625200,
     "status": "aborted",
     "timestamp": 1619739126975,
     "user": {
      "displayName": "Lucas Cunha",
      "photoUrl": "https://lh3.googleusercontent.com/a-/AOh14GjTd3EBIxXr8O8LdNhC2abfwcqDQU3ZEIcwIw8fEDM=s64",
      "userId": "13851762687289508492"
     },
     "user_tz": 180
    },
    "id": "BM_WRW92FO72"
   },
   "outputs": [],
   "source": [
    "# !kaggle competitions submit -c i2a2-nlp-2021-sentiment-analysis -f submition_file.csv -m \"Model 04: NLP-based v3\""
   ]
  },
  {
   "cell_type": "code",
   "execution_count": null,
   "metadata": {},
   "outputs": [],
   "source": []
  }
 ],
 "metadata": {
  "colab": {
   "authorship_tag": "ABX9TyOUiXeTqAnjcQnvk+UyEeDv",
   "collapsed_sections": [],
   "mount_file_id": "18u1dt3f3udsVvLaOK8nqyVUY2CDE215U",
   "name": "nlp_sa03 - TfidfVectorizer full.ipynb",
   "provenance": []
  },
  "kernelspec": {
   "display_name": "Python 3",
   "language": "python",
   "name": "python3"
  },
  "language_info": {
   "codemirror_mode": {
    "name": "ipython",
    "version": 3
   },
   "file_extension": ".py",
   "mimetype": "text/x-python",
   "name": "python",
   "nbconvert_exporter": "python",
   "pygments_lexer": "ipython3",
   "version": "3.8.5"
  }
 },
 "nbformat": 4,
 "nbformat_minor": 4
}
