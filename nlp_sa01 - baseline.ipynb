{
 "cells": [
  {
   "cell_type": "code",
   "execution_count": 1,
   "metadata": {
    "executionInfo": {
     "elapsed": 1143,
     "status": "ok",
     "timestamp": 1619573315721,
     "user": {
      "displayName": "Lucas Cunha",
      "photoUrl": "https://lh3.googleusercontent.com/a-/AOh14GjTd3EBIxXr8O8LdNhC2abfwcqDQU3ZEIcwIw8fEDM=s64",
      "userId": "13851762687289508492"
     },
     "user_tz": 180
    },
    "id": "aDsx0Ebvqq7W"
   },
   "outputs": [
    {
     "name": "stderr",
     "output_type": "stream",
     "text": [
      "[nltk_data] Downloading package stopwords to\n",
      "[nltk_data]     C:\\Users\\weldl\\AppData\\Roaming\\nltk_data...\n",
      "[nltk_data]   Package stopwords is already up-to-date!\n",
      "[nltk_data] Downloading package rslp to\n",
      "[nltk_data]     C:\\Users\\weldl\\AppData\\Roaming\\nltk_data...\n",
      "[nltk_data]   Package rslp is already up-to-date!\n",
      "[nltk_data] Downloading package wordnet to\n",
      "[nltk_data]     C:\\Users\\weldl\\AppData\\Roaming\\nltk_data...\n",
      "[nltk_data]   Package wordnet is already up-to-date!\n"
     ]
    }
   ],
   "source": [
    "import os, zipfile\n",
    "from datetime import datetime\n",
    "from zipfile import ZipFile\n",
    "\n",
    "import matplotlib.pyplot as plt\n",
    "import numpy as np\n",
    "import pandas as pd\n",
    "\n",
    "from sklearn.compose import ColumnTransformer\n",
    "from sklearn.ensemble import RandomForestClassifier\n",
    "from sklearn.impute import SimpleImputer\n",
    "from sklearn.metrics import classification_report\n",
    "from sklearn.model_selection import train_test_split, RandomizedSearchCV\n",
    "from sklearn.pipeline import Pipeline\n",
    "from sklearn.preprocessing import OneHotEncoder\n",
    "\n",
    "from preprocessing import SelectMajorCategories\n",
    "from visualizations import *\n",
    "from language import *\n",
    "import evaluation as ev"
   ]
  },
  {
   "cell_type": "code",
   "execution_count": null,
   "metadata": {
    "executionInfo": {
     "elapsed": 1667,
     "status": "ok",
     "timestamp": 1619573316251,
     "user": {
      "displayName": "Lucas Cunha",
      "photoUrl": "https://lh3.googleusercontent.com/a-/AOh14GjTd3EBIxXr8O8LdNhC2abfwcqDQU3ZEIcwIw8fEDM=s64",
      "userId": "13851762687289508492"
     },
     "user_tz": 180
    },
    "id": "xFCSemppqwLF"
   },
   "outputs": [],
   "source": []
  },
  {
   "cell_type": "markdown",
   "metadata": {
    "id": "FCA4U2cooqMl"
   },
   "source": [
    "# Montando o setup do Kaggle"
   ]
  },
  {
   "cell_type": "code",
   "execution_count": 2,
   "metadata": {
    "executionInfo": {
     "elapsed": 1662,
     "status": "ok",
     "timestamp": 1619573316251,
     "user": {
      "displayName": "Lucas Cunha",
      "photoUrl": "https://lh3.googleusercontent.com/a-/AOh14GjTd3EBIxXr8O8LdNhC2abfwcqDQU3ZEIcwIw8fEDM=s64",
      "userId": "13851762687289508492"
     },
     "user_tz": 180
    },
    "id": "kG9qN8HcoUzg"
   },
   "outputs": [],
   "source": [
    "if 'google.colab' in str(get_ipython()):\n",
    "    os.environ['KAGGLE_CONFIG_DIR'] = \"/content/drive/My Drive/Kaggle/\"\n",
    "    on_colab = True\n",
    "    ! pip install kaggle --upgrade\n",
    "else:\n",
    "    os.environ['KAGGLE_CONFIG_DIR'] = \"../../Kaggle/\"\n",
    "    on_colab = False"
   ]
  },
  {
   "cell_type": "code",
   "execution_count": 3,
   "metadata": {
    "colab": {
     "base_uri": "https://localhost:8080/"
    },
    "executionInfo": {
     "elapsed": 6944,
     "status": "ok",
     "timestamp": 1619573321545,
     "user": {
      "displayName": "Lucas Cunha",
      "photoUrl": "https://lh3.googleusercontent.com/a-/AOh14GjTd3EBIxXr8O8LdNhC2abfwcqDQU3ZEIcwIw8fEDM=s64",
      "userId": "13851762687289508492"
     },
     "user_tz": 180
    },
    "id": "4mlcJAWqodUV",
    "outputId": "9849fc74-ccbb-4f57-f24e-05a225bc3eed"
   },
   "outputs": [],
   "source": [
    "# Downloading and extracting the data from Kaggle\n",
    "if on_colab:\n",
    "    dataset_folder = \"./\"\n",
    "    ! kaggle competitions download -c i2a2-nlp-2021-sentiment-analysis\n",
    "    ! unzip -q i2a2-nlp-2021-sentiment-analysis.zip -d \"./i2a2-nlp-2021-sentiment-analysis/\"\n",
    "    ! rm i2a2-nlp-2021-sentiment-analysis.zip\n",
    "else:\n",
    "    dataset_folder = \"C:\\\\Users\\\\weldl\\\\datasets\\\\i2a2-nlp-2021-sentiment-analysis\"\n",
    "    if not os.path.isdir(dataset_folder):\n",
    "        ! kaggle competitions download -c i2a2-nlp-2021-sentiment-analysis -p \"C:\\\\Users\\\\weldl\\\\datasets\"\n",
    "        # Create a ZipFile Object and load sample.zip in it\n",
    "        zip_file = dataset_folder + \".zip\"\n",
    "        with ZipFile(zip_file, 'r') as zipObj:\n",
    "           # Extract all the contents of zip file in different directory\n",
    "           zipObj.extractall(dataset_folder)\n",
    "        os.remove(zip_file)"
   ]
  },
  {
   "cell_type": "code",
   "execution_count": 4,
   "metadata": {
    "executionInfo": {
     "elapsed": 8155,
     "status": "ok",
     "timestamp": 1619573322762,
     "user": {
      "displayName": "Lucas Cunha",
      "photoUrl": "https://lh3.googleusercontent.com/a-/AOh14GjTd3EBIxXr8O8LdNhC2abfwcqDQU3ZEIcwIw8fEDM=s64",
      "userId": "13851762687289508492"
     },
     "user_tz": 180
    },
    "id": "svthzSjTq2L-"
   },
   "outputs": [],
   "source": [
    "df_train = pd.read_csv(os.path.join(dataset_folder, \"train.csv\"), low_memory=False)\n",
    "df_test = pd.read_csv(os.path.join(dataset_folder, \"test.csv\"), low_memory=False)"
   ]
  },
  {
   "cell_type": "code",
   "execution_count": null,
   "metadata": {
    "executionInfo": {
     "elapsed": 8146,
     "status": "ok",
     "timestamp": 1619573322767,
     "user": {
      "displayName": "Lucas Cunha",
      "photoUrl": "https://lh3.googleusercontent.com/a-/AOh14GjTd3EBIxXr8O8LdNhC2abfwcqDQU3ZEIcwIw8fEDM=s64",
      "userId": "13851762687289508492"
     },
     "user_tz": 180
    },
    "id": "c6fInCNBrrBI"
   },
   "outputs": [],
   "source": []
  },
  {
   "cell_type": "markdown",
   "metadata": {
    "id": "uOnZ5d01qn1-"
   },
   "source": [
    "# Data Preparation:"
   ]
  },
  {
   "cell_type": "code",
   "execution_count": 5,
   "metadata": {
    "executionInfo": {
     "elapsed": 8141,
     "status": "ok",
     "timestamp": 1619573322767,
     "user": {
      "displayName": "Lucas Cunha",
      "photoUrl": "https://lh3.googleusercontent.com/a-/AOh14GjTd3EBIxXr8O8LdNhC2abfwcqDQU3ZEIcwIw8fEDM=s64",
      "userId": "13851762687289508492"
     },
     "user_tz": 180
    },
    "id": "_sp9BFiWzSv7"
   },
   "outputs": [],
   "source": [
    "target_col = 'rating'"
   ]
  },
  {
   "cell_type": "code",
   "execution_count": 6,
   "metadata": {
    "executionInfo": {
     "elapsed": 8138,
     "status": "ok",
     "timestamp": 1619573322767,
     "user": {
      "displayName": "Lucas Cunha",
      "photoUrl": "https://lh3.googleusercontent.com/a-/AOh14GjTd3EBIxXr8O8LdNhC2abfwcqDQU3ZEIcwIw8fEDM=s64",
      "userId": "13851762687289508492"
     },
     "user_tz": 180
    },
    "id": "YqeWPLravIrU"
   },
   "outputs": [],
   "source": [
    "x_train = df_train.drop(columns=[target_col])\n",
    "y_train = df_train[[target_col]]\n",
    "\n",
    "x_test = df_test"
   ]
  },
  {
   "cell_type": "code",
   "execution_count": 7,
   "metadata": {
    "colab": {
     "base_uri": "https://localhost:8080/"
    },
    "executionInfo": {
     "elapsed": 8130,
     "status": "ok",
     "timestamp": 1619573322768,
     "user": {
      "displayName": "Lucas Cunha",
      "photoUrl": "https://lh3.googleusercontent.com/a-/AOh14GjTd3EBIxXr8O8LdNhC2abfwcqDQU3ZEIcwIw8fEDM=s64",
      "userId": "13851762687289508492"
     },
     "user_tz": 180
    },
    "id": "6_UyaJwj74qB",
    "outputId": "752e62f9-5ac5-4c58-8533-a772466bf03f"
   },
   "outputs": [
    {
     "name": "stderr",
     "output_type": "stream",
     "text": [
      "C:\\Users\\weldl\\Google Drive\\Kaggle\\i2a2-nlp-2021-sentiment-analysis\\preprocessing.py:23: SettingWithCopyWarning: \n",
      "A value is trying to be set on a copy of a slice from a DataFrame\n",
      "\n",
      "See the caveats in the documentation: https://pandas.pydata.org/pandas-docs/stable/user_guide/indexing.html#returning-a-view-versus-a-copy\n",
      "  x_df_[col][~np.isin(x_df[col], self.major_categories[col])] = self.minor_label\n"
     ]
    }
   ],
   "source": [
    "cat_features = ['reviewer_gender', 'reviewer_state', 'product_brand', 'site_category_lv1', 'site_category_lv2']\n",
    "sel = SelectMajorCategories(columns=cat_features, perc=0.01)\n",
    "sel.fit(x_train)\n",
    "\n",
    "x_train = sel.transform(x_train)\n",
    "x_test = sel.transform(x_test)\n"
   ]
  },
  {
   "cell_type": "code",
   "execution_count": null,
   "metadata": {
    "executionInfo": {
     "elapsed": 8125,
     "status": "ok",
     "timestamp": 1619573322768,
     "user": {
      "displayName": "Lucas Cunha",
      "photoUrl": "https://lh3.googleusercontent.com/a-/AOh14GjTd3EBIxXr8O8LdNhC2abfwcqDQU3ZEIcwIw8fEDM=s64",
      "userId": "13851762687289508492"
     },
     "user_tz": 180
    },
    "id": "kab6153HvIwu"
   },
   "outputs": [],
   "source": []
  },
  {
   "cell_type": "markdown",
   "metadata": {
    "id": "m6_tysLr0THE"
   },
   "source": [
    "# Pre-processing"
   ]
  },
  {
   "cell_type": "code",
   "execution_count": 8,
   "metadata": {
    "executionInfo": {
     "elapsed": 8122,
     "status": "ok",
     "timestamp": 1619573322769,
     "user": {
      "displayName": "Lucas Cunha",
      "photoUrl": "https://lh3.googleusercontent.com/a-/AOh14GjTd3EBIxXr8O8LdNhC2abfwcqDQU3ZEIcwIw8fEDM=s64",
      "userId": "13851762687289508492"
     },
     "user_tz": 180
    },
    "id": "u7xgBd-svI2L"
   },
   "outputs": [],
   "source": [
    "# Encoding:\n",
    "\n",
    "# Features groups:\n",
    "cat_features = ['reviewer_gender', 'reviewer_state', 'product_brand', 'site_category_lv1', 'site_category_lv2']\n",
    "num_float_features = ['reviewer_birth_year']\n",
    "passthrough_features = []\n",
    "\n",
    "# Features transformers:\n",
    "cat_transformer = ('cat', Pipeline([('cat_imputer', SimpleImputer(missing_values=np.nan, strategy='constant', fill_value='none')),\n",
    "                                    ('one-hot', OneHotEncoder(handle_unknown='ignore'))]), cat_features)\n",
    "num_float_transformer = ('num_float', Pipeline([('num_float_imputer', SimpleImputer(missing_values=np.nan, strategy='mean'))]), num_float_features)\n",
    "passthrough_transformer = ('passthrough', 'passthrough', passthrough_features)\n",
    "\n",
    "transformers = [cat_transformer, num_float_transformer]\n",
    "feat_encoding = ColumnTransformer(transformers, remainder='drop')"
   ]
  },
  {
   "cell_type": "code",
   "execution_count": 9,
   "metadata": {
    "executionInfo": {
     "elapsed": 8118,
     "status": "ok",
     "timestamp": 1619573322770,
     "user": {
      "displayName": "Lucas Cunha",
      "photoUrl": "https://lh3.googleusercontent.com/a-/AOh14GjTd3EBIxXr8O8LdNhC2abfwcqDQU3ZEIcwIw8fEDM=s64",
      "userId": "13851762687289508492"
     },
     "user_tz": 180
    },
    "id": "3j2zNELTIj24"
   },
   "outputs": [],
   "source": [
    "# Features creation:"
   ]
  },
  {
   "cell_type": "code",
   "execution_count": 10,
   "metadata": {
    "executionInfo": {
     "elapsed": 8114,
     "status": "ok",
     "timestamp": 1619573322770,
     "user": {
      "displayName": "Lucas Cunha",
      "photoUrl": "https://lh3.googleusercontent.com/a-/AOh14GjTd3EBIxXr8O8LdNhC2abfwcqDQU3ZEIcwIw8fEDM=s64",
      "userId": "13851762687289508492"
     },
     "user_tz": 180
    },
    "id": "DJtPGncpIj5-"
   },
   "outputs": [],
   "source": [
    "# Features Selection:"
   ]
  },
  {
   "cell_type": "code",
   "execution_count": 11,
   "metadata": {
    "executionInfo": {
     "elapsed": 8111,
     "status": "ok",
     "timestamp": 1619573322771,
     "user": {
      "displayName": "Lucas Cunha",
      "photoUrl": "https://lh3.googleusercontent.com/a-/AOh14GjTd3EBIxXr8O8LdNhC2abfwcqDQU3ZEIcwIw8fEDM=s64",
      "userId": "13851762687289508492"
     },
     "user_tz": 180
    },
    "id": "LAf4W5sYqIGz"
   },
   "outputs": [],
   "source": [
    "# Pre-processing pipeline:\n",
    "preprocessor = Pipeline([('features encoding', feat_encoding)])"
   ]
  },
  {
   "cell_type": "code",
   "execution_count": 12,
   "metadata": {
    "executionInfo": {
     "elapsed": 8621,
     "status": "ok",
     "timestamp": 1619573323287,
     "user": {
      "displayName": "Lucas Cunha",
      "photoUrl": "https://lh3.googleusercontent.com/a-/AOh14GjTd3EBIxXr8O8LdNhC2abfwcqDQU3ZEIcwIw8fEDM=s64",
      "userId": "13851762687289508492"
     },
     "user_tz": 180
    },
    "id": "r2fQ-B_XIrLf"
   },
   "outputs": [],
   "source": [
    "x_train_encoded = preprocessor.fit_transform(x_train)\n",
    "x_test_encoded = preprocessor.transform(x_test.loc[:, x_train.columns])"
   ]
  },
  {
   "cell_type": "code",
   "execution_count": null,
   "metadata": {
    "executionInfo": {
     "elapsed": 8617,
     "status": "ok",
     "timestamp": 1619573323287,
     "user": {
      "displayName": "Lucas Cunha",
      "photoUrl": "https://lh3.googleusercontent.com/a-/AOh14GjTd3EBIxXr8O8LdNhC2abfwcqDQU3ZEIcwIw8fEDM=s64",
      "userId": "13851762687289508492"
     },
     "user_tz": 180
    },
    "id": "4b7X-LdXThCk"
   },
   "outputs": [],
   "source": []
  },
  {
   "cell_type": "markdown",
   "metadata": {
    "id": "OeHaFymZ-ru_"
   },
   "source": [
    "# Model Training"
   ]
  },
  {
   "cell_type": "code",
   "execution_count": 13,
   "metadata": {},
   "outputs": [],
   "source": [
    "n_jobs = 4"
   ]
  },
  {
   "cell_type": "code",
   "execution_count": 14,
   "metadata": {
    "executionInfo": {
     "elapsed": 8612,
     "status": "ok",
     "timestamp": 1619573323287,
     "user": {
      "displayName": "Lucas Cunha",
      "photoUrl": "https://lh3.googleusercontent.com/a-/AOh14GjTd3EBIxXr8O8LdNhC2abfwcqDQU3ZEIcwIw8fEDM=s64",
      "userId": "13851762687289508492"
     },
     "user_tz": 180
    },
    "id": "jOKH29JHThFV"
   },
   "outputs": [],
   "source": [
    "# Create the parameter grid based on the results of random search \n",
    "param_grid = {\n",
    "    'bootstrap': [True, False],\n",
    "    'max_depth': [5, 10, 20, 30, 40, 50],\n",
    "    'max_features': [\"auto\"],\n",
    "    'min_samples_leaf': [1, 2, 3, 4, 5, 6, 7, 8, 9, 10],\n",
    "    'min_samples_split': [8, 10, 12, 14, 16],\n",
    "    'n_estimators': [1, 5, 10, 20, 30, 40, 50],\n",
    "}\n",
    "# Create a based model\n",
    "rf = RandomForestClassifier()\n",
    "# Instantiate the grid search model\n",
    "clf = RandomizedSearchCV(estimator=rf, param_distributions=param_grid, \n",
    "                         cv=5, n_jobs=n_jobs, verbose=2, n_iter=4)"
   ]
  },
  {
   "cell_type": "code",
   "execution_count": 15,
   "metadata": {
    "colab": {
     "base_uri": "https://localhost:8080/"
    },
    "executionInfo": {
     "elapsed": 2508089,
     "status": "ok",
     "timestamp": 1619575822768,
     "user": {
      "displayName": "Lucas Cunha",
      "photoUrl": "https://lh3.googleusercontent.com/a-/AOh14GjTd3EBIxXr8O8LdNhC2abfwcqDQU3ZEIcwIw8fEDM=s64",
      "userId": "13851762687289508492"
     },
     "user_tz": 180
    },
    "id": "Nzw66FJpThID",
    "outputId": "5299b227-8c07-4a20-8f3a-5381357c891c"
   },
   "outputs": [
    {
     "name": "stdout",
     "output_type": "stream",
     "text": [
      "Fitting 5 folds for each of 4 candidates, totalling 20 fits\n"
     ]
    },
    {
     "name": "stderr",
     "output_type": "stream",
     "text": [
      "c:\\users\\weldl\\miniconda3\\envs\\i2a2-nlp\\lib\\site-packages\\sklearn\\model_selection\\_search.py:880: DataConversionWarning: A column-vector y was passed when a 1d array was expected. Please change the shape of y to (n_samples,), for example using ravel().\n",
      "  self.best_estimator_.fit(X, y, **fit_params)\n"
     ]
    },
    {
     "data": {
      "text/plain": [
       "RandomizedSearchCV(cv=5, estimator=RandomForestClassifier(), n_iter=4, n_jobs=4,\n",
       "                   param_distributions={'bootstrap': [True, False],\n",
       "                                        'max_depth': [5, 10, 20, 30, 40, 50],\n",
       "                                        'max_features': ['auto'],\n",
       "                                        'min_samples_leaf': [1, 2, 3, 4, 5, 6,\n",
       "                                                             7, 8, 9, 10],\n",
       "                                        'min_samples_split': [8, 10, 12, 14,\n",
       "                                                              16],\n",
       "                                        'n_estimators': [1, 5, 10, 20, 30, 40,\n",
       "                                                         50]},\n",
       "                   verbose=2)"
      ]
     },
     "execution_count": 15,
     "metadata": {},
     "output_type": "execute_result"
    }
   ],
   "source": [
    "clf.fit(x_train_encoded, y_train)"
   ]
  },
  {
   "cell_type": "code",
   "execution_count": 16,
   "metadata": {
    "colab": {
     "base_uri": "https://localhost:8080/",
     "height": 265
    },
    "executionInfo": {
     "elapsed": 2508089,
     "status": "ok",
     "timestamp": 1619575822774,
     "user": {
      "displayName": "Lucas Cunha",
      "photoUrl": "https://lh3.googleusercontent.com/a-/AOh14GjTd3EBIxXr8O8LdNhC2abfwcqDQU3ZEIcwIw8fEDM=s64",
      "userId": "13851762687289508492"
     },
     "user_tz": 180
    },
    "id": "V5M42p1bCLGP",
    "outputId": "ebe42987-91aa-40cd-e189-2a1701878c7c"
   },
   "outputs": [
    {
     "data": {
      "image/png": "[encoded data removed]",
      "text/plain": [
       "<Figure size 576x288 with 1 Axes>"
      ]
     },
     "metadata": {
      "needs_background": "light"
     },
     "output_type": "display_data"
    }
   ],
   "source": [
    "estimators_list = [clf]\n",
    "plot_estimators_cvperf(estimators_list)"
   ]
  },
  {
   "cell_type": "code",
   "execution_count": 17,
   "metadata": {
    "colab": {
     "base_uri": "https://localhost:8080/"
    },
    "executionInfo": {
     "elapsed": 2508083,
     "status": "ok",
     "timestamp": 1619575822774,
     "user": {
      "displayName": "Lucas Cunha",
      "photoUrl": "https://lh3.googleusercontent.com/a-/AOh14GjTd3EBIxXr8O8LdNhC2abfwcqDQU3ZEIcwIw8fEDM=s64",
      "userId": "13851762687289508492"
     },
     "user_tz": 180
    },
    "id": "dI_ylzA6EzgF",
    "outputId": "a5dec4ce-c4c8-4815-a66f-f0fcbb8a31cf"
   },
   "outputs": [
    {
     "data": {
      "text/plain": [
       "RandomForestClassifier(bootstrap=False, max_depth=20, min_samples_leaf=7,\n",
       "                       min_samples_split=8, n_estimators=40)"
      ]
     },
     "execution_count": 17,
     "metadata": {},
     "output_type": "execute_result"
    }
   ],
   "source": [
    "clf.best_estimator_"
   ]
  },
  {
   "cell_type": "code",
   "execution_count": null,
   "metadata": {},
   "outputs": [],
   "source": []
  },
  {
   "cell_type": "code",
   "execution_count": 18,
   "metadata": {},
   "outputs": [],
   "source": [
    "TARGET_NAMES = [x for x in np.unique(y_train['rating'].values)]\n",
    "TARGET_DICT = {label:i for i,label in enumerate(TARGET_NAMES)}"
   ]
  },
  {
   "cell_type": "code",
   "execution_count": 19,
   "metadata": {},
   "outputs": [
    {
     "name": "stdout",
     "output_type": "stream",
     "text": [
      "Classes evaluated: [1, 2, 3, 4, 5]\n",
      "Correctly classified......: 39316/92661\n",
      "Accuracy (simple) ........: 0.42\n",
      "Balanced acc.  ...........: 0.27\n",
      "Balanced acc. (adjusted)..: 0.09\n",
      "Acc. norm (Recall avgs) ..: 0.27\n",
      "Precision = tp / (tp + fp): [0.44 0.48 0.54 0.49 0.41] -> accuracy of positive predictions\n",
      "Recall    = tp / (tp + fn): [0.25 0.01 0.01 0.19 0.9 ] -> sensibility (true positive rate)\n",
      "F1 score .................: [0.32 0.01 0.03 0.27 0.57] -> harmonic mean\n"
     ]
    },
    {
     "data": {
      "image/png": "[encoded data removed]",
      "text/plain": [
       "<Figure size 1008x576 with 4 Axes>"
      ]
     },
     "metadata": {
      "needs_background": "light"
     },
     "output_type": "display_data"
    },
    {
     "data": {
      "text/html": [
       "<div>\n",
       "<style scoped>\n",
       "    .dataframe tbody tr th:only-of-type {\n",
       "        vertical-align: middle;\n",
       "    }\n",
       "\n",
       "    .dataframe tbody tr th {\n",
       "        vertical-align: top;\n",
       "    }\n",
       "\n",
       "    .dataframe thead th {\n",
       "        text-align: right;\n",
       "    }\n",
       "</style>\n",
       "<table border=\"1\" class=\"dataframe\">\n",
       "  <thead>\n",
       "    <tr style=\"text-align: right;\">\n",
       "      <th></th>\n",
       "      <th>accuracy</th>\n",
       "      <th>balanced_accuracy</th>\n",
       "      <th>balanced_accuracy adjusted</th>\n",
       "      <th>precision</th>\n",
       "      <th>recall</th>\n",
       "      <th>f1_score</th>\n",
       "    </tr>\n",
       "  </thead>\n",
       "  <tbody>\n",
       "    <tr>\n",
       "      <th>0</th>\n",
       "      <td>0.42</td>\n",
       "      <td>0.27</td>\n",
       "      <td>0.09</td>\n",
       "      <td>0.44</td>\n",
       "      <td>0.25</td>\n",
       "      <td>0.32</td>\n",
       "    </tr>\n",
       "    <tr>\n",
       "      <th>1</th>\n",
       "      <td>0.42</td>\n",
       "      <td>0.27</td>\n",
       "      <td>0.09</td>\n",
       "      <td>0.48</td>\n",
       "      <td>0.01</td>\n",
       "      <td>0.01</td>\n",
       "    </tr>\n",
       "    <tr>\n",
       "      <th>2</th>\n",
       "      <td>0.42</td>\n",
       "      <td>0.27</td>\n",
       "      <td>0.09</td>\n",
       "      <td>0.54</td>\n",
       "      <td>0.01</td>\n",
       "      <td>0.03</td>\n",
       "    </tr>\n",
       "    <tr>\n",
       "      <th>3</th>\n",
       "      <td>0.42</td>\n",
       "      <td>0.27</td>\n",
       "      <td>0.09</td>\n",
       "      <td>0.49</td>\n",
       "      <td>0.19</td>\n",
       "      <td>0.27</td>\n",
       "    </tr>\n",
       "    <tr>\n",
       "      <th>4</th>\n",
       "      <td>0.42</td>\n",
       "      <td>0.27</td>\n",
       "      <td>0.09</td>\n",
       "      <td>0.41</td>\n",
       "      <td>0.90</td>\n",
       "      <td>0.57</td>\n",
       "    </tr>\n",
       "  </tbody>\n",
       "</table>\n",
       "</div>"
      ],
      "text/plain": [
       "  accuracy balanced_accuracy balanced_accuracy adjusted  precision  recall  \\\n",
       "0     0.42              0.27                       0.09       0.44    0.25   \n",
       "1     0.42              0.27                       0.09       0.48    0.01   \n",
       "2     0.42              0.27                       0.09       0.54    0.01   \n",
       "3     0.42              0.27                       0.09       0.49    0.19   \n",
       "4     0.42              0.27                       0.09       0.41    0.90   \n",
       "\n",
       "   f1_score  \n",
       "0      0.32  \n",
       "1      0.01  \n",
       "2      0.03  \n",
       "3      0.27  \n",
       "4      0.57  "
      ]
     },
     "execution_count": 19,
     "metadata": {},
     "output_type": "execute_result"
    }
   ],
   "source": [
    "y_pred_train = [TARGET_DICT[x] for x in clf.best_estimator_.predict(x_train_encoded)]\n",
    "y_true_train = [TARGET_DICT[x] for x in y_train['rating'].values]\n",
    "\n",
    "results = ev.performance_measures(y_true_train, y_pred_train, TARGET_NAMES)\n",
    "results = pd.DataFrame(results)\n",
    "results"
   ]
  },
  {
   "cell_type": "code",
   "execution_count": 20,
   "metadata": {},
   "outputs": [
    {
     "data": {
      "image/png": "[encoded data removed]",
      "text/plain": [
       "<Figure size 708.661x340.157 with 2 Axes>"
      ]
     },
     "metadata": {
      "needs_background": "light"
     },
     "output_type": "display_data"
    }
   ],
   "source": [
    "ev.plot_classification_report(classification_report(y_true_train, y_pred_train, target_names=[str(x) for x in TARGET_NAMES]))"
   ]
  },
  {
   "cell_type": "code",
   "execution_count": 21,
   "metadata": {
    "colab": {
     "base_uri": "https://localhost:8080/"
    },
    "executionInfo": {
     "elapsed": 2514281,
     "status": "ok",
     "timestamp": 1619575828978,
     "user": {
      "displayName": "Lucas Cunha",
      "photoUrl": "https://lh3.googleusercontent.com/a-/AOh14GjTd3EBIxXr8O8LdNhC2abfwcqDQU3ZEIcwIw8fEDM=s64",
      "userId": "13851762687289508492"
     },
     "user_tz": 180
    },
    "id": "zbSaIeGgEZyO",
    "outputId": "27ec574e-1d38-4b72-e2c8-63d77b8745f5"
   },
   "outputs": [
    {
     "name": "stderr",
     "output_type": "stream",
     "text": [
      "<ipython-input-21-e725a87dad6c>:2: DataConversionWarning: A column-vector y was passed when a 1d array was expected. Please change the shape of y to (n_samples,), for example using ravel().\n",
      "  model = clf.best_estimator_.fit(x_train_encoded, y_train)\n"
     ]
    },
    {
     "data": {
      "text/plain": [
       "RandomForestClassifier(bootstrap=False, max_depth=20, min_samples_leaf=7,\n",
       "                       min_samples_split=8, n_estimators=40)"
      ]
     },
     "execution_count": 21,
     "metadata": {},
     "output_type": "execute_result"
    }
   ],
   "source": [
    "# Re-fiting the best estimator in all data:\n",
    "model = clf.best_estimator_.fit(x_train_encoded, y_train)\n",
    "model"
   ]
  },
  {
   "cell_type": "code",
   "execution_count": null,
   "metadata": {},
   "outputs": [],
   "source": []
  },
  {
   "cell_type": "markdown",
   "metadata": {
    "id": "Q4ZjjZ5CGgBH"
   },
   "source": [
    "# Submission"
   ]
  },
  {
   "cell_type": "code",
   "execution_count": 23,
   "metadata": {
    "colab": {
     "base_uri": "https://localhost:8080/",
     "height": 419
    },
    "executionInfo": {
     "elapsed": 820,
     "status": "ok",
     "timestamp": 1619576221434,
     "user": {
      "displayName": "Lucas Cunha",
      "photoUrl": "https://lh3.googleusercontent.com/a-/AOh14GjTd3EBIxXr8O8LdNhC2abfwcqDQU3ZEIcwIw8fEDM=s64",
      "userId": "13851762687289508492"
     },
     "user_tz": 180
    },
    "id": "_el2wl8AFO2N",
    "outputId": "c63d3e61-1c10-49a9-d096-eae7053cc1eb"
   },
   "outputs": [
    {
     "data": {
      "text/html": [
       "<div>\n",
       "<style scoped>\n",
       "    .dataframe tbody tr th:only-of-type {\n",
       "        vertical-align: middle;\n",
       "    }\n",
       "\n",
       "    .dataframe tbody tr th {\n",
       "        vertical-align: top;\n",
       "    }\n",
       "\n",
       "    .dataframe thead th {\n",
       "        text-align: right;\n",
       "    }\n",
       "</style>\n",
       "<table border=\"1\" class=\"dataframe\">\n",
       "  <thead>\n",
       "    <tr style=\"text-align: right;\">\n",
       "      <th></th>\n",
       "      <th>id</th>\n",
       "      <th>rating</th>\n",
       "    </tr>\n",
       "  </thead>\n",
       "  <tbody>\n",
       "    <tr>\n",
       "      <th>0</th>\n",
       "      <td>0</td>\n",
       "      <td>5</td>\n",
       "    </tr>\n",
       "    <tr>\n",
       "      <th>1</th>\n",
       "      <td>1</td>\n",
       "      <td>1</td>\n",
       "    </tr>\n",
       "    <tr>\n",
       "      <th>2</th>\n",
       "      <td>2</td>\n",
       "      <td>5</td>\n",
       "    </tr>\n",
       "    <tr>\n",
       "      <th>3</th>\n",
       "      <td>3</td>\n",
       "      <td>5</td>\n",
       "    </tr>\n",
       "    <tr>\n",
       "      <th>4</th>\n",
       "      <td>4</td>\n",
       "      <td>5</td>\n",
       "    </tr>\n",
       "    <tr>\n",
       "      <th>...</th>\n",
       "      <td>...</td>\n",
       "      <td>...</td>\n",
       "    </tr>\n",
       "    <tr>\n",
       "      <th>39707</th>\n",
       "      <td>39707</td>\n",
       "      <td>5</td>\n",
       "    </tr>\n",
       "    <tr>\n",
       "      <th>39708</th>\n",
       "      <td>39708</td>\n",
       "      <td>5</td>\n",
       "    </tr>\n",
       "    <tr>\n",
       "      <th>39709</th>\n",
       "      <td>39709</td>\n",
       "      <td>1</td>\n",
       "    </tr>\n",
       "    <tr>\n",
       "      <th>39710</th>\n",
       "      <td>39710</td>\n",
       "      <td>4</td>\n",
       "    </tr>\n",
       "    <tr>\n",
       "      <th>39711</th>\n",
       "      <td>39711</td>\n",
       "      <td>5</td>\n",
       "    </tr>\n",
       "  </tbody>\n",
       "</table>\n",
       "<p>39712 rows × 2 columns</p>\n",
       "</div>"
      ],
      "text/plain": [
       "          id  rating\n",
       "0          0       5\n",
       "1          1       1\n",
       "2          2       5\n",
       "3          3       5\n",
       "4          4       5\n",
       "...      ...     ...\n",
       "39707  39707       5\n",
       "39708  39708       5\n",
       "39709  39709       1\n",
       "39710  39710       4\n",
       "39711  39711       5\n",
       "\n",
       "[39712 rows x 2 columns]"
      ]
     },
     "execution_count": 23,
     "metadata": {},
     "output_type": "execute_result"
    }
   ],
   "source": [
    "df_submission = pd.DataFrame({\"id\": [i for i in range(x_test_encoded.shape[0])],\n",
    "                           \"rating\": clf.best_estimator_.predict(x_test_encoded)})\n",
    "df_submission"
   ]
  },
  {
   "cell_type": "code",
   "execution_count": 24,
   "metadata": {
    "executionInfo": {
     "elapsed": 982,
     "status": "ok",
     "timestamp": 1619576228359,
     "user": {
      "displayName": "Lucas Cunha",
      "photoUrl": "https://lh3.googleusercontent.com/a-/AOh14GjTd3EBIxXr8O8LdNhC2abfwcqDQU3ZEIcwIw8fEDM=s64",
      "userId": "13851762687289508492"
     },
     "user_tz": 180
    },
    "id": "RpAF5dHAGrca"
   },
   "outputs": [],
   "source": [
    "submition_file = './submition_file.csv'\n",
    "df_submission.to_csv(submition_file, index=False)"
   ]
  },
  {
   "cell_type": "code",
   "execution_count": 25,
   "metadata": {
    "colab": {
     "base_uri": "https://localhost:8080/"
    },
    "executionInfo": {
     "elapsed": 1745,
     "status": "ok",
     "timestamp": 1619576236239,
     "user": {
      "displayName": "Lucas Cunha",
      "photoUrl": "https://lh3.googleusercontent.com/a-/AOh14GjTd3EBIxXr8O8LdNhC2abfwcqDQU3ZEIcwIw8fEDM=s64",
      "userId": "13851762687289508492"
     },
     "user_tz": 180
    },
    "id": "z6L9kZH5Gpl8",
    "outputId": "60e7fdae-98b9-4b41-ebc1-6f77df575441"
   },
   "outputs": [],
   "source": [
    "# !kaggle competitions list"
   ]
  },
  {
   "cell_type": "code",
   "execution_count": 26,
   "metadata": {
    "colab": {
     "base_uri": "https://localhost:8080/"
    },
    "executionInfo": {
     "elapsed": 15614,
     "status": "ok",
     "timestamp": 1619576259453,
     "user": {
      "displayName": "Lucas Cunha",
      "photoUrl": "https://lh3.googleusercontent.com/a-/AOh14GjTd3EBIxXr8O8LdNhC2abfwcqDQU3ZEIcwIw8fEDM=s64",
      "userId": "13851762687289508492"
     },
     "user_tz": 180
    },
    "id": "BM_WRW92FO72",
    "outputId": "1a563b30-cd4e-4cf1-aafb-a11294df8497"
   },
   "outputs": [],
   "source": [
    "# !kaggle competitions submit -c i2a2-nlp-2021-sentiment-analysis -f submition_file.csv -m \"Model 01: Baseline\""
   ]
  },
  {
   "cell_type": "code",
   "execution_count": null,
   "metadata": {
    "id": "2BC9eSPGG1ng"
   },
   "outputs": [],
   "source": []
  }
 ],
 "metadata": {
  "colab": {
   "authorship_tag": "ABX9TyMXbBJKtnExMKcvKi2QV/tU",
   "collapsed_sections": [],
   "mount_file_id": "1addnYt2nGNHWswAQxmrSjxXsQSxPr_sZ",
   "name": "nlp_sa01 - baseline.ipynb",
   "provenance": []
  },
  "kernelspec": {
   "display_name": "Python 3",
   "language": "python",
   "name": "python3"
  },
  "language_info": {
   "codemirror_mode": {
    "name": "ipython",
    "version": 3
   },
   "file_extension": ".py",
   "mimetype": "text/x-python",
   "name": "python",
   "nbconvert_exporter": "python",
   "pygments_lexer": "ipython3",
   "version": "3.8.5"
  }
 },
 "nbformat": 4,
 "nbformat_minor": 4
}
