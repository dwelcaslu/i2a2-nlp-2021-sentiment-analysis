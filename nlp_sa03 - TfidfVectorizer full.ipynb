{
 "cells": [
  {
   "cell_type": "code",
   "execution_count": 1,
   "metadata": {
    "colab": {
     "base_uri": "https://localhost:8080/"
    },
    "executionInfo": {
     "elapsed": 620,
     "status": "ok",
     "timestamp": 1619739144428,
     "user": {
      "displayName": "Lucas Cunha",
      "photoUrl": "https://lh3.googleusercontent.com/a-/AOh14GjTd3EBIxXr8O8LdNhC2abfwcqDQU3ZEIcwIw8fEDM=s64",
      "userId": "13851762687289508492"
     },
     "user_tz": 180
    },
    "id": "aDsx0Ebvqq7W",
    "outputId": "df2dab36-a023-4619-cf5b-6e8fe50953b7"
   },
   "outputs": [
    {
     "name": "stderr",
     "output_type": "stream",
     "text": [
      "[nltk_data] Downloading package stopwords to\n",
      "[nltk_data]     C:\\Users\\weldl\\AppData\\Roaming\\nltk_data...\n",
      "[nltk_data]   Package stopwords is already up-to-date!\n",
      "[nltk_data] Downloading package stopwords to\n",
      "[nltk_data]     C:\\Users\\weldl\\AppData\\Roaming\\nltk_data...\n",
      "[nltk_data]   Package stopwords is already up-to-date!\n",
      "[nltk_data] Downloading package wordnet to\n",
      "[nltk_data]     C:\\Users\\weldl\\AppData\\Roaming\\nltk_data...\n",
      "[nltk_data]   Package wordnet is already up-to-date!\n"
     ]
    }
   ],
   "source": [
    "import os, zipfile\n",
    "from zipfile import ZipFile\n",
    "\n",
    "import matplotlib.pyplot as plt\n",
    "import numpy as np\n",
    "import pandas as pd\n",
    "\n",
    "from sklearn.compose import ColumnTransformer\n",
    "from sklearn.ensemble import RandomForestClassifier\n",
    "from sklearn.feature_extraction.text import TfidfVectorizer\n",
    "from sklearn.impute import SimpleImputer\n",
    "from sklearn.model_selection import train_test_split, RandomizedSearchCV\n",
    "from sklearn.neighbors import KNeighborsClassifier\n",
    "from sklearn.pipeline import Pipeline\n",
    "from sklearn.preprocessing import OneHotEncoder, MinMaxScaler\n",
    "from sklearn.svm import SVC\n",
    "\n",
    "import nltk\n",
    "from nltk.corpus import stopwords\n",
    "nltk.download('stopwords')\n",
    "\n",
    "from preprocessing import SelectMajorCategories\n",
    "from visualizations import *\n",
    "from language import *"
   ]
  },
  {
   "cell_type": "code",
   "execution_count": null,
   "metadata": {
    "executionInfo": {
     "elapsed": 1535,
     "status": "ok",
     "timestamp": 1619736503131,
     "user": {
      "displayName": "Lucas Cunha",
      "photoUrl": "https://lh3.googleusercontent.com/a-/AOh14GjTd3EBIxXr8O8LdNhC2abfwcqDQU3ZEIcwIw8fEDM=s64",
      "userId": "13851762687289508492"
     },
     "user_tz": 180
    },
    "id": "xFCSemppqwLF"
   },
   "outputs": [],
   "source": []
  },
  {
   "cell_type": "markdown",
   "metadata": {
    "id": "FCA4U2cooqMl"
   },
   "source": [
    "# Montando o setup do Kaggle"
   ]
  },
  {
   "cell_type": "code",
   "execution_count": 2,
   "metadata": {
    "executionInfo": {
     "elapsed": 1529,
     "status": "ok",
     "timestamp": 1619736503132,
     "user": {
      "displayName": "Lucas Cunha",
      "photoUrl": "https://lh3.googleusercontent.com/a-/AOh14GjTd3EBIxXr8O8LdNhC2abfwcqDQU3ZEIcwIw8fEDM=s64",
      "userId": "13851762687289508492"
     },
     "user_tz": 180
    },
    "id": "kG9qN8HcoUzg"
   },
   "outputs": [],
   "source": [
    "if 'google.colab' in str(get_ipython()):\n",
    "    os.environ['KAGGLE_CONFIG_DIR'] = \"/content/drive/My Drive/Kaggle/\"\n",
    "    on_colab = True\n",
    "    ! pip install kaggle --upgrade\n",
    "else:\n",
    "    os.environ['KAGGLE_CONFIG_DIR'] = \"../../Kaggle/\"\n",
    "    on_colab = False"
   ]
  },
  {
   "cell_type": "code",
   "execution_count": 4,
   "metadata": {
    "colab": {
     "base_uri": "https://localhost:8080/"
    },
    "executionInfo": {
     "elapsed": 6721,
     "status": "ok",
     "timestamp": 1619736508339,
     "user": {
      "displayName": "Lucas Cunha",
      "photoUrl": "https://lh3.googleusercontent.com/a-/AOh14GjTd3EBIxXr8O8LdNhC2abfwcqDQU3ZEIcwIw8fEDM=s64",
      "userId": "13851762687289508492"
     },
     "user_tz": 180
    },
    "id": "4mlcJAWqodUV",
    "outputId": "d4f9c048-058f-4eeb-962a-3d3aa8cb05ca"
   },
   "outputs": [],
   "source": [
    "# Downloading and extracting the data from Kaggle\n",
    "if on_colab:\n",
    "    dataset_folder = \"./\"\n",
    "    ! kaggle competitions download -c i2a2-nlp-2021-sentiment-analysis\n",
    "    ! unzip -q i2a2-nlp-2021-sentiment-analysis.zip -d \"./i2a2-nlp-2021-sentiment-analysis/\"\n",
    "    ! rm i2a2-nlp-2021-sentiment-analysis.zip\n",
    "else:\n",
    "    dataset_folder = \"C:\\\\Users\\\\weldl\\\\datasets\\\\i2a2-nlp-2021-sentiment-analysis\"\n",
    "    if not os.path.isdir(dataset_folder):\n",
    "        ! kaggle competitions download -c i2a2-nlp-2021-sentiment-analysis -p \"C:\\\\Users\\\\weldl\\\\datasets\"\n",
    "        # Create a ZipFile Object and load sample.zip in it\n",
    "        zip_file = dataset_folder + \".zip\"\n",
    "        with ZipFile(zip_file, 'r') as zipObj:\n",
    "           # Extract all the contents of zip file in different directory\n",
    "           zipObj.extractall(dataset_folder)\n",
    "        os.remove(zip_file)"
   ]
  },
  {
   "cell_type": "code",
   "execution_count": 5,
   "metadata": {
    "executionInfo": {
     "elapsed": 7787,
     "status": "ok",
     "timestamp": 1619736509413,
     "user": {
      "displayName": "Lucas Cunha",
      "photoUrl": "https://lh3.googleusercontent.com/a-/AOh14GjTd3EBIxXr8O8LdNhC2abfwcqDQU3ZEIcwIw8fEDM=s64",
      "userId": "13851762687289508492"
     },
     "user_tz": 180
    },
    "id": "svthzSjTq2L-"
   },
   "outputs": [],
   "source": [
    "df_train = pd.read_csv(os.path.join(dataset_folder, \"train.csv\"), low_memory=False)\n",
    "df_test = pd.read_csv(os.path.join(dataset_folder, \"test.csv\"), low_memory=False)"
   ]
  },
  {
   "cell_type": "code",
   "execution_count": null,
   "metadata": {
    "executionInfo": {
     "elapsed": 7762,
     "status": "ok",
     "timestamp": 1619736509416,
     "user": {
      "displayName": "Lucas Cunha",
      "photoUrl": "https://lh3.googleusercontent.com/a-/AOh14GjTd3EBIxXr8O8LdNhC2abfwcqDQU3ZEIcwIw8fEDM=s64",
      "userId": "13851762687289508492"
     },
     "user_tz": 180
    },
    "id": "c6fInCNBrrBI"
   },
   "outputs": [],
   "source": []
  },
  {
   "cell_type": "markdown",
   "metadata": {
    "id": "uOnZ5d01qn1-"
   },
   "source": [
    "# Data Preparation:"
   ]
  },
  {
   "cell_type": "code",
   "execution_count": 6,
   "metadata": {
    "executionInfo": {
     "elapsed": 7755,
     "status": "ok",
     "timestamp": 1619736509417,
     "user": {
      "displayName": "Lucas Cunha",
      "photoUrl": "https://lh3.googleusercontent.com/a-/AOh14GjTd3EBIxXr8O8LdNhC2abfwcqDQU3ZEIcwIw8fEDM=s64",
      "userId": "13851762687289508492"
     },
     "user_tz": 180
    },
    "id": "_sp9BFiWzSv7"
   },
   "outputs": [],
   "source": [
    "target_col = 'rating'"
   ]
  },
  {
   "cell_type": "code",
   "execution_count": 7,
   "metadata": {
    "executionInfo": {
     "elapsed": 7750,
     "status": "ok",
     "timestamp": 1619736509417,
     "user": {
      "displayName": "Lucas Cunha",
      "photoUrl": "https://lh3.googleusercontent.com/a-/AOh14GjTd3EBIxXr8O8LdNhC2abfwcqDQU3ZEIcwIw8fEDM=s64",
      "userId": "13851762687289508492"
     },
     "user_tz": 180
    },
    "id": "YqeWPLravIrU"
   },
   "outputs": [],
   "source": [
    "x_train = df_train.drop(columns=[target_col])\n",
    "y_train = df_train[[target_col]]\n",
    "\n",
    "x_test = df_test"
   ]
  },
  {
   "cell_type": "code",
   "execution_count": null,
   "metadata": {
    "executionInfo": {
     "elapsed": 7747,
     "status": "ok",
     "timestamp": 1619736509418,
     "user": {
      "displayName": "Lucas Cunha",
      "photoUrl": "https://lh3.googleusercontent.com/a-/AOh14GjTd3EBIxXr8O8LdNhC2abfwcqDQU3ZEIcwIw8fEDM=s64",
      "userId": "13851762687289508492"
     },
     "user_tz": 180
    },
    "id": "kab6153HvIwu"
   },
   "outputs": [],
   "source": []
  },
  {
   "cell_type": "markdown",
   "metadata": {
    "id": "m6_tysLr0THE"
   },
   "source": [
    "# Pre-processing"
   ]
  },
  {
   "cell_type": "code",
   "execution_count": 8,
   "metadata": {
    "colab": {
     "base_uri": "https://localhost:8080/"
    },
    "executionInfo": {
     "elapsed": 8118,
     "status": "ok",
     "timestamp": 1619736509796,
     "user": {
      "displayName": "Lucas Cunha",
      "photoUrl": "https://lh3.googleusercontent.com/a-/AOh14GjTd3EBIxXr8O8LdNhC2abfwcqDQU3ZEIcwIw8fEDM=s64",
      "userId": "13851762687289508492"
     },
     "user_tz": 180
    },
    "id": "4CqKTsQg41Hf",
    "outputId": "82a28d59-6e0b-404f-f910-a3d9d9988719"
   },
   "outputs": [
    {
     "name": "stderr",
     "output_type": "stream",
     "text": [
      "C:\\Users\\weldl\\Google Drive\\Kaggle\\i2a2-nlp-2021-sentiment-analysis\\preprocessing.py:21: SettingWithCopyWarning: \n",
      "A value is trying to be set on a copy of a slice from a DataFrame\n",
      "\n",
      "See the caveats in the documentation: https://pandas.pydata.org/pandas-docs/stable/user_guide/indexing.html#returning-a-view-versus-a-copy\n",
      "  x_df_[col][~np.isin(x_df[col], self.major_categories[col])] = self.minor_label\n"
     ]
    }
   ],
   "source": [
    "# Selecting the major categories in the categorical features:\n",
    "cat_features = ['reviewer_gender', 'reviewer_state', 'product_brand', 'site_category_lv1', 'site_category_lv2']\n",
    "sel = SelectMajorCategories(columns=cat_features, perc=0.01)\n",
    "sel.fit(x_train)\n",
    "\n",
    "x_train = sel.transform(x_train)\n",
    "x_test = sel.transform(x_test)"
   ]
  },
  {
   "cell_type": "code",
   "execution_count": 9,
   "metadata": {
    "colab": {
     "base_uri": "https://localhost:8080/"
    },
    "executionInfo": {
     "elapsed": 37777,
     "status": "ok",
     "timestamp": 1619736539463,
     "user": {
      "displayName": "Lucas Cunha",
      "photoUrl": "https://lh3.googleusercontent.com/a-/AOh14GjTd3EBIxXr8O8LdNhC2abfwcqDQU3ZEIcwIw8fEDM=s64",
      "userId": "13851762687289508492"
     },
     "user_tz": 180
    },
    "id": "XAegC_f10y4H",
    "outputId": "85602b63-959a-4d35-ba62-32d980226e1e"
   },
   "outputs": [
    {
     "name": "stderr",
     "output_type": "stream",
     "text": [
      "c:\\users\\weldl\\miniconda3\\envs\\i2a2-nlp\\lib\\site-packages\\sklearn\\feature_extraction\\text.py:388: UserWarning: Your stop_words may be inconsistent with your preprocessing. Tokenizing the stop words generated tokens ['ate', 'eramos', 'estao', 'estavamos', 'estiveramos', 'estivessemos', 'foramos', 'fossemos', 'ha', 'hao', 'houveramos', 'houverao', 'houveriamos', 'houvessemos', 'ja', 'nao', 'sao', 'sera', 'serao', 'seriamos', 'so', 'tambem', 'tera', 'terao', 'teriamos', 'tinhamos', 'tiveramos', 'tivessemos', 'voce', 'voces'] not in stop_words.\n",
      "  warnings.warn('Your stop_words may be inconsistent with '\n"
     ]
    }
   ],
   "source": [
    "# Encoding text columns:\n",
    "pt_stp_words = stopwords.words('portuguese')\n",
    "\n",
    "def column_vectorizer(df_train, df_test, col, max_features=100):\n",
    "    corpus = df_train[col].values\n",
    "    vectorizer = TfidfVectorizer(strip_accents='unicode', lowercase=True, stop_words=pt_stp_words,\n",
    "                               max_features=max_features, ngram_range=(1, 3))\n",
    "    vectorizer.fit(corpus)\n",
    "\n",
    "    df_train_tfidf = vectorizer.transform(df_train[col])\n",
    "    tfidf_cols = [f'tfidf_{col}_{i}' for i in range(df_train_tfidf.shape[1])]\n",
    "    df_train_tfidf = pd.DataFrame(df_train_tfidf.toarray(), columns=tfidf_cols)\n",
    "    df_train = pd.concat([df_train, df_train_tfidf], axis=1)\n",
    "    df_test_tfidf = vectorizer.transform(df_test[col])\n",
    "    df_test_tfidf = pd.DataFrame(df_test_tfidf.toarray(), columns=tfidf_cols)\n",
    "    df_test = pd.concat([df_test, df_test_tfidf], axis=1)\n",
    "\n",
    "    return df_train, df_test, tfidf_cols\n",
    "\n",
    "text_features = []\n",
    "# review_title:\n",
    "x_train, x_test, tfidf_cols = column_vectorizer(x_train, x_test, 'review_title', max_features=50)\n",
    "text_features += tfidf_cols\n",
    "# review_text:\n",
    "x_train, x_test, tfidf_cols = column_vectorizer(x_train, x_test, 'review_text', max_features=100)\n",
    "text_features += tfidf_cols"
   ]
  },
  {
   "cell_type": "code",
   "execution_count": 10,
   "metadata": {
    "colab": {
     "base_uri": "https://localhost:8080/",
     "height": 1000
    },
    "executionInfo": {
     "elapsed": 38146,
     "status": "ok",
     "timestamp": 1619736539839,
     "user": {
      "displayName": "Lucas Cunha",
      "photoUrl": "https://lh3.googleusercontent.com/a-/AOh14GjTd3EBIxXr8O8LdNhC2abfwcqDQU3ZEIcwIw8fEDM=s64",
      "userId": "13851762687289508492"
     },
     "user_tz": 180
    },
    "id": "EmUB0r1QvvDv",
    "outputId": "d147fae4-e33e-4b94-d65f-74d6b567c419"
   },
   "outputs": [
    {
     "data": {
      "text/html": [
       "<div>\n",
       "<style scoped>\n",
       "    .dataframe tbody tr th:only-of-type {\n",
       "        vertical-align: middle;\n",
       "    }\n",
       "\n",
       "    .dataframe tbody tr th {\n",
       "        vertical-align: top;\n",
       "    }\n",
       "\n",
       "    .dataframe thead th {\n",
       "        text-align: right;\n",
       "    }\n",
       "</style>\n",
       "<table border=\"1\" class=\"dataframe\">\n",
       "  <thead>\n",
       "    <tr style=\"text-align: right;\">\n",
       "      <th></th>\n",
       "      <th>id</th>\n",
       "      <th>submission_date</th>\n",
       "      <th>review_title</th>\n",
       "      <th>review_text</th>\n",
       "      <th>reviewer_id</th>\n",
       "      <th>reviewer_birth_year</th>\n",
       "      <th>reviewer_gender</th>\n",
       "      <th>reviewer_state</th>\n",
       "      <th>product_id</th>\n",
       "      <th>product_name</th>\n",
       "      <th>...</th>\n",
       "      <th>tfidf_review_text_90</th>\n",
       "      <th>tfidf_review_text_91</th>\n",
       "      <th>tfidf_review_text_92</th>\n",
       "      <th>tfidf_review_text_93</th>\n",
       "      <th>tfidf_review_text_94</th>\n",
       "      <th>tfidf_review_text_95</th>\n",
       "      <th>tfidf_review_text_96</th>\n",
       "      <th>tfidf_review_text_97</th>\n",
       "      <th>tfidf_review_text_98</th>\n",
       "      <th>tfidf_review_text_99</th>\n",
       "    </tr>\n",
       "  </thead>\n",
       "  <tbody>\n",
       "    <tr>\n",
       "      <th>0</th>\n",
       "      <td>0</td>\n",
       "      <td>2018-02-25 04:59:13</td>\n",
       "      <td>Americanas Nao tem compromisso</td>\n",
       "      <td>Comprei um TV Box dia 14 /12/ 2017 e ate agora...</td>\n",
       "      <td>be7443b1b96702ad4599acbb8a034938c5df15f293ff72...</td>\n",
       "      <td>1981.0</td>\n",
       "      <td>F</td>\n",
       "      <td>PE</td>\n",
       "      <td>126831715</td>\n",
       "      <td>Google Chromecast 2</td>\n",
       "      <td>...</td>\n",
       "      <td>0.0</td>\n",
       "      <td>0.0</td>\n",
       "      <td>0.000000</td>\n",
       "      <td>0.306294</td>\n",
       "      <td>0.358718</td>\n",
       "      <td>0.0</td>\n",
       "      <td>0.0</td>\n",
       "      <td>0.0</td>\n",
       "      <td>0.000000</td>\n",
       "      <td>0.0</td>\n",
       "    </tr>\n",
       "    <tr>\n",
       "      <th>1</th>\n",
       "      <td>1</td>\n",
       "      <td>2018-03-12 10:13:18</td>\n",
       "      <td>muito bom produto</td>\n",
       "      <td>Considerando seu custo, é ótimo som com muita ...</td>\n",
       "      <td>75792fad1da46e5ad1d81fd2fd94d6c1b43cacf87fc58d...</td>\n",
       "      <td>1956.0</td>\n",
       "      <td>M</td>\n",
       "      <td>SP</td>\n",
       "      <td>7954368</td>\n",
       "      <td>Caixa Multimidia 2.1 Com Subwoofer 21w Rms Sp-...</td>\n",
       "      <td>...</td>\n",
       "      <td>0.0</td>\n",
       "      <td>0.0</td>\n",
       "      <td>0.000000</td>\n",
       "      <td>0.000000</td>\n",
       "      <td>0.000000</td>\n",
       "      <td>0.0</td>\n",
       "      <td>0.0</td>\n",
       "      <td>0.0</td>\n",
       "      <td>0.000000</td>\n",
       "      <td>0.0</td>\n",
       "    </tr>\n",
       "    <tr>\n",
       "      <th>2</th>\n",
       "      <td>2</td>\n",
       "      <td>2018-01-12 17:20:44</td>\n",
       "      <td>Excelente!</td>\n",
       "      <td>Simplesmente é a melhor que já vi... ela é lin...</td>\n",
       "      <td>6793d62bea0e221898b4b47a2a7079be71c22ea0f35610...</td>\n",
       "      <td>1978.0</td>\n",
       "      <td>F</td>\n",
       "      <td>PR</td>\n",
       "      <td>132381765</td>\n",
       "      <td>Smart TV LED 43\" Samsung 43MU6100 UHD 4K HDR P...</td>\n",
       "      <td>...</td>\n",
       "      <td>0.0</td>\n",
       "      <td>0.0</td>\n",
       "      <td>0.000000</td>\n",
       "      <td>0.000000</td>\n",
       "      <td>0.000000</td>\n",
       "      <td>0.0</td>\n",
       "      <td>0.0</td>\n",
       "      <td>0.0</td>\n",
       "      <td>0.000000</td>\n",
       "      <td>0.0</td>\n",
       "    </tr>\n",
       "    <tr>\n",
       "      <th>3</th>\n",
       "      <td>3</td>\n",
       "      <td>2018-03-21 18:18:44</td>\n",
       "      <td>Entrega antes do prazo!</td>\n",
       "      <td>Estou muito satisfeita com o produto é a entre...</td>\n",
       "      <td>ca3562dfc623df2e5055a1d33d8bdce778278e26fb65f1...</td>\n",
       "      <td>1986.0</td>\n",
       "      <td>F</td>\n",
       "      <td>RJ</td>\n",
       "      <td>129605351</td>\n",
       "      <td>Smart TV LED 32\" SEMP TCL L32S4700S HD com Con...</td>\n",
       "      <td>...</td>\n",
       "      <td>0.0</td>\n",
       "      <td>0.0</td>\n",
       "      <td>0.000000</td>\n",
       "      <td>0.000000</td>\n",
       "      <td>0.000000</td>\n",
       "      <td>0.0</td>\n",
       "      <td>0.0</td>\n",
       "      <td>0.0</td>\n",
       "      <td>0.000000</td>\n",
       "      <td>0.0</td>\n",
       "    </tr>\n",
       "    <tr>\n",
       "      <th>4</th>\n",
       "      <td>4</td>\n",
       "      <td>2018-05-16 07:29:48</td>\n",
       "      <td>Muito bonito.</td>\n",
       "      <td>A gaiola é muito bonita. Colorida e grande. Al...</td>\n",
       "      <td>7e80e277a30db3bf89095683bf61d39dd8c933c9c7c8e2...</td>\n",
       "      <td>1976.0</td>\n",
       "      <td>F</td>\n",
       "      <td>PR</td>\n",
       "      <td>19956796</td>\n",
       "      <td>Gaiola Para Hamster 3 Andares Vermelha</td>\n",
       "      <td>...</td>\n",
       "      <td>0.0</td>\n",
       "      <td>0.0</td>\n",
       "      <td>0.000000</td>\n",
       "      <td>0.000000</td>\n",
       "      <td>0.000000</td>\n",
       "      <td>0.0</td>\n",
       "      <td>0.0</td>\n",
       "      <td>0.0</td>\n",
       "      <td>0.000000</td>\n",
       "      <td>0.0</td>\n",
       "    </tr>\n",
       "    <tr>\n",
       "      <th>...</th>\n",
       "      <td>...</td>\n",
       "      <td>...</td>\n",
       "      <td>...</td>\n",
       "      <td>...</td>\n",
       "      <td>...</td>\n",
       "      <td>...</td>\n",
       "      <td>...</td>\n",
       "      <td>...</td>\n",
       "      <td>...</td>\n",
       "      <td>...</td>\n",
       "      <td>...</td>\n",
       "      <td>...</td>\n",
       "      <td>...</td>\n",
       "      <td>...</td>\n",
       "      <td>...</td>\n",
       "      <td>...</td>\n",
       "      <td>...</td>\n",
       "      <td>...</td>\n",
       "      <td>...</td>\n",
       "      <td>...</td>\n",
       "      <td>...</td>\n",
       "    </tr>\n",
       "    <tr>\n",
       "      <th>92656</th>\n",
       "      <td>92656</td>\n",
       "      <td>2018-03-04 14:10:59</td>\n",
       "      <td>Gostei do Produto</td>\n",
       "      <td>Comprei o Mixer Cadence ,estou amando fazer mi...</td>\n",
       "      <td>0c4732b96c6332155dd05e927ca0cfe5320d21e88eff59...</td>\n",
       "      <td>1967.0</td>\n",
       "      <td>F</td>\n",
       "      <td>SP</td>\n",
       "      <td>121824196</td>\n",
       "      <td>Mixer Cadence Fast Blend Colors 2 Velocidades ...</td>\n",
       "      <td>...</td>\n",
       "      <td>0.0</td>\n",
       "      <td>0.0</td>\n",
       "      <td>0.000000</td>\n",
       "      <td>0.000000</td>\n",
       "      <td>0.000000</td>\n",
       "      <td>0.0</td>\n",
       "      <td>0.0</td>\n",
       "      <td>0.0</td>\n",
       "      <td>0.000000</td>\n",
       "      <td>0.0</td>\n",
       "    </tr>\n",
       "    <tr>\n",
       "      <th>92657</th>\n",
       "      <td>92657</td>\n",
       "      <td>2018-05-19 09:43:26</td>\n",
       "      <td>Excelente</td>\n",
       "      <td>Produto atendeu minhas espectativas, chegou co...</td>\n",
       "      <td>326994cdccc9ff5a5c15cc32fc67e926d492c3da182df9...</td>\n",
       "      <td>1984.0</td>\n",
       "      <td>F</td>\n",
       "      <td>BA</td>\n",
       "      <td>132276640</td>\n",
       "      <td>Smartphone Samsung Galaxy J5 Prime Dual Chip A...</td>\n",
       "      <td>...</td>\n",
       "      <td>0.0</td>\n",
       "      <td>0.0</td>\n",
       "      <td>0.000000</td>\n",
       "      <td>0.000000</td>\n",
       "      <td>0.000000</td>\n",
       "      <td>0.0</td>\n",
       "      <td>0.0</td>\n",
       "      <td>0.0</td>\n",
       "      <td>0.000000</td>\n",
       "      <td>0.0</td>\n",
       "    </tr>\n",
       "    <tr>\n",
       "      <th>92658</th>\n",
       "      <td>92658</td>\n",
       "      <td>2018-04-15 14:26:52</td>\n",
       "      <td>OTIMO</td>\n",
       "      <td>MUITO BOM! CHEGOU NO PRAZO CORRETO. VEIO COM T...</td>\n",
       "      <td>44f9ab2dd440f77cadd81a747850c6dc9a59ffaf32553e...</td>\n",
       "      <td>1948.0</td>\n",
       "      <td>F</td>\n",
       "      <td>MG</td>\n",
       "      <td>22878010</td>\n",
       "      <td>Painel Para Tv Até 40\"  5019 Cor Branco Brilho</td>\n",
       "      <td>...</td>\n",
       "      <td>0.0</td>\n",
       "      <td>0.0</td>\n",
       "      <td>0.442464</td>\n",
       "      <td>0.000000</td>\n",
       "      <td>0.000000</td>\n",
       "      <td>0.0</td>\n",
       "      <td>0.0</td>\n",
       "      <td>0.0</td>\n",
       "      <td>0.379084</td>\n",
       "      <td>0.0</td>\n",
       "    </tr>\n",
       "    <tr>\n",
       "      <th>92659</th>\n",
       "      <td>92659</td>\n",
       "      <td>2018-03-28 10:09:35</td>\n",
       "      <td>Produto bom</td>\n",
       "      <td>Produto bom de qualidade fiquei satisfeito,poi...</td>\n",
       "      <td>a08f56dda47781a7b5da08d6f53a125daaa1afef482a86...</td>\n",
       "      <td>1973.0</td>\n",
       "      <td>M</td>\n",
       "      <td>SP</td>\n",
       "      <td>125768072</td>\n",
       "      <td>Smartphone Samsung Galaxy J1 Mini Dual Chip An...</td>\n",
       "      <td>...</td>\n",
       "      <td>0.0</td>\n",
       "      <td>0.0</td>\n",
       "      <td>0.000000</td>\n",
       "      <td>0.000000</td>\n",
       "      <td>0.000000</td>\n",
       "      <td>0.0</td>\n",
       "      <td>0.0</td>\n",
       "      <td>0.0</td>\n",
       "      <td>0.000000</td>\n",
       "      <td>0.0</td>\n",
       "    </tr>\n",
       "    <tr>\n",
       "      <th>92660</th>\n",
       "      <td>92660</td>\n",
       "      <td>2018-01-06 18:17:14</td>\n",
       "      <td>Muito</td>\n",
       "      <td>Gostei muito presente para o meu neto ele ador...</td>\n",
       "      <td>a15adbecfd4ad0d3ab10c1ab6cc20e61c94f96d8e445d4...</td>\n",
       "      <td>1959.0</td>\n",
       "      <td>F</td>\n",
       "      <td>RJ</td>\n",
       "      <td>113195334</td>\n",
       "      <td>DVD - Alvin e os Esquilos - Volume 3</td>\n",
       "      <td>...</td>\n",
       "      <td>0.0</td>\n",
       "      <td>0.0</td>\n",
       "      <td>0.000000</td>\n",
       "      <td>0.000000</td>\n",
       "      <td>0.000000</td>\n",
       "      <td>0.0</td>\n",
       "      <td>0.0</td>\n",
       "      <td>0.0</td>\n",
       "      <td>0.000000</td>\n",
       "      <td>0.0</td>\n",
       "    </tr>\n",
       "  </tbody>\n",
       "</table>\n",
       "<p>92661 rows × 163 columns</p>\n",
       "</div>"
      ],
      "text/plain": [
       "          id      submission_date                    review_title  \\\n",
       "0          0  2018-02-25 04:59:13  Americanas Nao tem compromisso   \n",
       "1          1  2018-03-12 10:13:18               muito bom produto   \n",
       "2          2  2018-01-12 17:20:44                      Excelente!   \n",
       "3          3  2018-03-21 18:18:44         Entrega antes do prazo!   \n",
       "4          4  2018-05-16 07:29:48                   Muito bonito.   \n",
       "...      ...                  ...                             ...   \n",
       "92656  92656  2018-03-04 14:10:59               Gostei do Produto   \n",
       "92657  92657  2018-05-19 09:43:26                       Excelente   \n",
       "92658  92658  2018-04-15 14:26:52                           OTIMO   \n",
       "92659  92659  2018-03-28 10:09:35                     Produto bom   \n",
       "92660  92660  2018-01-06 18:17:14                           Muito   \n",
       "\n",
       "                                             review_text  \\\n",
       "0      Comprei um TV Box dia 14 /12/ 2017 e ate agora...   \n",
       "1      Considerando seu custo, é ótimo som com muita ...   \n",
       "2      Simplesmente é a melhor que já vi... ela é lin...   \n",
       "3      Estou muito satisfeita com o produto é a entre...   \n",
       "4      A gaiola é muito bonita. Colorida e grande. Al...   \n",
       "...                                                  ...   \n",
       "92656  Comprei o Mixer Cadence ,estou amando fazer mi...   \n",
       "92657  Produto atendeu minhas espectativas, chegou co...   \n",
       "92658  MUITO BOM! CHEGOU NO PRAZO CORRETO. VEIO COM T...   \n",
       "92659  Produto bom de qualidade fiquei satisfeito,poi...   \n",
       "92660  Gostei muito presente para o meu neto ele ador...   \n",
       "\n",
       "                                             reviewer_id  reviewer_birth_year  \\\n",
       "0      be7443b1b96702ad4599acbb8a034938c5df15f293ff72...               1981.0   \n",
       "1      75792fad1da46e5ad1d81fd2fd94d6c1b43cacf87fc58d...               1956.0   \n",
       "2      6793d62bea0e221898b4b47a2a7079be71c22ea0f35610...               1978.0   \n",
       "3      ca3562dfc623df2e5055a1d33d8bdce778278e26fb65f1...               1986.0   \n",
       "4      7e80e277a30db3bf89095683bf61d39dd8c933c9c7c8e2...               1976.0   \n",
       "...                                                  ...                  ...   \n",
       "92656  0c4732b96c6332155dd05e927ca0cfe5320d21e88eff59...               1967.0   \n",
       "92657  326994cdccc9ff5a5c15cc32fc67e926d492c3da182df9...               1984.0   \n",
       "92658  44f9ab2dd440f77cadd81a747850c6dc9a59ffaf32553e...               1948.0   \n",
       "92659  a08f56dda47781a7b5da08d6f53a125daaa1afef482a86...               1973.0   \n",
       "92660  a15adbecfd4ad0d3ab10c1ab6cc20e61c94f96d8e445d4...               1959.0   \n",
       "\n",
       "      reviewer_gender reviewer_state product_id  \\\n",
       "0                   F             PE  126831715   \n",
       "1                   M             SP    7954368   \n",
       "2                   F             PR  132381765   \n",
       "3                   F             RJ  129605351   \n",
       "4                   F             PR   19956796   \n",
       "...               ...            ...        ...   \n",
       "92656               F             SP  121824196   \n",
       "92657               F             BA  132276640   \n",
       "92658               F             MG   22878010   \n",
       "92659               M             SP  125768072   \n",
       "92660               F             RJ  113195334   \n",
       "\n",
       "                                            product_name  ...  \\\n",
       "0                                    Google Chromecast 2  ...   \n",
       "1      Caixa Multimidia 2.1 Com Subwoofer 21w Rms Sp-...  ...   \n",
       "2      Smart TV LED 43\" Samsung 43MU6100 UHD 4K HDR P...  ...   \n",
       "3      Smart TV LED 32\" SEMP TCL L32S4700S HD com Con...  ...   \n",
       "4                 Gaiola Para Hamster 3 Andares Vermelha  ...   \n",
       "...                                                  ...  ...   \n",
       "92656  Mixer Cadence Fast Blend Colors 2 Velocidades ...  ...   \n",
       "92657  Smartphone Samsung Galaxy J5 Prime Dual Chip A...  ...   \n",
       "92658     Painel Para Tv Até 40\"  5019 Cor Branco Brilho  ...   \n",
       "92659  Smartphone Samsung Galaxy J1 Mini Dual Chip An...  ...   \n",
       "92660               DVD - Alvin e os Esquilos - Volume 3  ...   \n",
       "\n",
       "      tfidf_review_text_90 tfidf_review_text_91 tfidf_review_text_92  \\\n",
       "0                      0.0                  0.0             0.000000   \n",
       "1                      0.0                  0.0             0.000000   \n",
       "2                      0.0                  0.0             0.000000   \n",
       "3                      0.0                  0.0             0.000000   \n",
       "4                      0.0                  0.0             0.000000   \n",
       "...                    ...                  ...                  ...   \n",
       "92656                  0.0                  0.0             0.000000   \n",
       "92657                  0.0                  0.0             0.000000   \n",
       "92658                  0.0                  0.0             0.442464   \n",
       "92659                  0.0                  0.0             0.000000   \n",
       "92660                  0.0                  0.0             0.000000   \n",
       "\n",
       "       tfidf_review_text_93  tfidf_review_text_94  tfidf_review_text_95  \\\n",
       "0                  0.306294              0.358718                   0.0   \n",
       "1                  0.000000              0.000000                   0.0   \n",
       "2                  0.000000              0.000000                   0.0   \n",
       "3                  0.000000              0.000000                   0.0   \n",
       "4                  0.000000              0.000000                   0.0   \n",
       "...                     ...                   ...                   ...   \n",
       "92656              0.000000              0.000000                   0.0   \n",
       "92657              0.000000              0.000000                   0.0   \n",
       "92658              0.000000              0.000000                   0.0   \n",
       "92659              0.000000              0.000000                   0.0   \n",
       "92660              0.000000              0.000000                   0.0   \n",
       "\n",
       "       tfidf_review_text_96  tfidf_review_text_97  tfidf_review_text_98  \\\n",
       "0                       0.0                   0.0              0.000000   \n",
       "1                       0.0                   0.0              0.000000   \n",
       "2                       0.0                   0.0              0.000000   \n",
       "3                       0.0                   0.0              0.000000   \n",
       "4                       0.0                   0.0              0.000000   \n",
       "...                     ...                   ...                   ...   \n",
       "92656                   0.0                   0.0              0.000000   \n",
       "92657                   0.0                   0.0              0.000000   \n",
       "92658                   0.0                   0.0              0.379084   \n",
       "92659                   0.0                   0.0              0.000000   \n",
       "92660                   0.0                   0.0              0.000000   \n",
       "\n",
       "       tfidf_review_text_99  \n",
       "0                       0.0  \n",
       "1                       0.0  \n",
       "2                       0.0  \n",
       "3                       0.0  \n",
       "4                       0.0  \n",
       "...                     ...  \n",
       "92656                   0.0  \n",
       "92657                   0.0  \n",
       "92658                   0.0  \n",
       "92659                   0.0  \n",
       "92660                   0.0  \n",
       "\n",
       "[92661 rows x 163 columns]"
      ]
     },
     "execution_count": 10,
     "metadata": {},
     "output_type": "execute_result"
    }
   ],
   "source": [
    "x_train"
   ]
  },
  {
   "cell_type": "code",
   "execution_count": 11,
   "metadata": {
    "executionInfo": {
     "elapsed": 38138,
     "status": "ok",
     "timestamp": 1619736539839,
     "user": {
      "displayName": "Lucas Cunha",
      "photoUrl": "https://lh3.googleusercontent.com/a-/AOh14GjTd3EBIxXr8O8LdNhC2abfwcqDQU3ZEIcwIw8fEDM=s64",
      "userId": "13851762687289508492"
     },
     "user_tz": 180
    },
    "id": "u7xgBd-svI2L"
   },
   "outputs": [],
   "source": [
    "# Encoding other columns:\n",
    "\n",
    "# Features groups:\n",
    "cat_features = ['reviewer_gender', 'reviewer_state', 'product_brand', 'site_category_lv1', 'site_category_lv2']\n",
    "num_float_features = ['reviewer_birth_year']\n",
    "passthrough_features = [] + text_features\n",
    "\n",
    "# Features transformers:\n",
    "cat_transformer = ('cat', Pipeline([('cat_imputer', SimpleImputer(missing_values=np.nan, strategy='constant', fill_value='none')),\n",
    "                                    ('one-hot', OneHotEncoder(handle_unknown='ignore'))]), cat_features)\n",
    "num_float_transformer = ('num_float', Pipeline([('num_float_imputer', SimpleImputer(missing_values=np.nan, strategy='mean')), \n",
    "                                                ('num_float_scaler', MinMaxScaler()),]), num_float_features)\n",
    "passthrough_transformer = ('passthrough', 'passthrough', passthrough_features)\n",
    "\n",
    "transformers = [cat_transformer, num_float_transformer, passthrough_transformer]\n",
    "feat_encoding = ColumnTransformer(transformers, remainder='drop')"
   ]
  },
  {
   "cell_type": "code",
   "execution_count": 12,
   "metadata": {
    "executionInfo": {
     "elapsed": 38133,
     "status": "ok",
     "timestamp": 1619736539839,
     "user": {
      "displayName": "Lucas Cunha",
      "photoUrl": "https://lh3.googleusercontent.com/a-/AOh14GjTd3EBIxXr8O8LdNhC2abfwcqDQU3ZEIcwIw8fEDM=s64",
      "userId": "13851762687289508492"
     },
     "user_tz": 180
    },
    "id": "3j2zNELTIj24"
   },
   "outputs": [],
   "source": [
    "# Features creation:"
   ]
  },
  {
   "cell_type": "code",
   "execution_count": 13,
   "metadata": {
    "executionInfo": {
     "elapsed": 38130,
     "status": "ok",
     "timestamp": 1619736539840,
     "user": {
      "displayName": "Lucas Cunha",
      "photoUrl": "https://lh3.googleusercontent.com/a-/AOh14GjTd3EBIxXr8O8LdNhC2abfwcqDQU3ZEIcwIw8fEDM=s64",
      "userId": "13851762687289508492"
     },
     "user_tz": 180
    },
    "id": "DJtPGncpIj5-"
   },
   "outputs": [],
   "source": [
    "# Features Selection:"
   ]
  },
  {
   "cell_type": "code",
   "execution_count": 14,
   "metadata": {
    "executionInfo": {
     "elapsed": 38127,
     "status": "ok",
     "timestamp": 1619736539841,
     "user": {
      "displayName": "Lucas Cunha",
      "photoUrl": "https://lh3.googleusercontent.com/a-/AOh14GjTd3EBIxXr8O8LdNhC2abfwcqDQU3ZEIcwIw8fEDM=s64",
      "userId": "13851762687289508492"
     },
     "user_tz": 180
    },
    "id": "LAf4W5sYqIGz"
   },
   "outputs": [],
   "source": [
    "# Pre-processing pipeline:\n",
    "preprocessor = Pipeline([('features encoding', feat_encoding)])"
   ]
  },
  {
   "cell_type": "code",
   "execution_count": 15,
   "metadata": {
    "executionInfo": {
     "elapsed": 38859,
     "status": "ok",
     "timestamp": 1619736540577,
     "user": {
      "displayName": "Lucas Cunha",
      "photoUrl": "https://lh3.googleusercontent.com/a-/AOh14GjTd3EBIxXr8O8LdNhC2abfwcqDQU3ZEIcwIw8fEDM=s64",
      "userId": "13851762687289508492"
     },
     "user_tz": 180
    },
    "id": "r2fQ-B_XIrLf"
   },
   "outputs": [],
   "source": [
    "x_train_encoded = preprocessor.fit_transform(x_train)\n",
    "x_test_encoded = preprocessor.transform(x_test.loc[:, x_train.columns])"
   ]
  },
  {
   "cell_type": "code",
   "execution_count": null,
   "metadata": {
    "executionInfo": {
     "elapsed": 38855,
     "status": "ok",
     "timestamp": 1619736540578,
     "user": {
      "displayName": "Lucas Cunha",
      "photoUrl": "https://lh3.googleusercontent.com/a-/AOh14GjTd3EBIxXr8O8LdNhC2abfwcqDQU3ZEIcwIw8fEDM=s64",
      "userId": "13851762687289508492"
     },
     "user_tz": 180
    },
    "id": "8suVnovO6YKN"
   },
   "outputs": [],
   "source": []
  },
  {
   "cell_type": "markdown",
   "metadata": {
    "id": "OeHaFymZ-ru_"
   },
   "source": [
    "# Model Training"
   ]
  },
  {
   "cell_type": "code",
   "execution_count": 16,
   "metadata": {},
   "outputs": [],
   "source": [
    "n_jobs = 4"
   ]
  },
  {
   "cell_type": "code",
   "execution_count": 17,
   "metadata": {
    "colab": {
     "base_uri": "https://localhost:8080/"
    },
    "executionInfo": {
     "elapsed": 135558,
     "status": "ok",
     "timestamp": 1619736637286,
     "user": {
      "displayName": "Lucas Cunha",
      "photoUrl": "https://lh3.googleusercontent.com/a-/AOh14GjTd3EBIxXr8O8LdNhC2abfwcqDQU3ZEIcwIw8fEDM=s64",
      "userId": "13851762687289508492"
     },
     "user_tz": 180
    },
    "id": "jOKH29JHThFV",
    "outputId": "f5a7b2f0-e785-4300-9b65-cc3ee23f7f0f"
   },
   "outputs": [
    {
     "name": "stdout",
     "output_type": "stream",
     "text": [
      "Fitting 5 folds for each of 10 candidates, totalling 50 fits\n"
     ]
    },
    {
     "name": "stderr",
     "output_type": "stream",
     "text": [
      "c:\\users\\weldl\\miniconda3\\envs\\i2a2-nlp\\lib\\site-packages\\sklearn\\model_selection\\_search.py:880: DataConversionWarning: A column-vector y was passed when a 1d array was expected. Please change the shape of y to (n_samples,), for example using ravel().\n",
      "  self.best_estimator_.fit(X, y, **fit_params)\n"
     ]
    }
   ],
   "source": [
    "# Create the parameter grid based on the results of random search \n",
    "param_grid = {\n",
    "    'bootstrap': [True, False],\n",
    "    'max_depth': [5, 10, 20, 30, 40, 50],\n",
    "    'max_features': [\"auto\"],\n",
    "    'min_samples_leaf': [1, 2, 3, 4, 5, 6, 7, 8, 9, 10],\n",
    "    'min_samples_split': [8, 10, 12, 14, 16],\n",
    "    'n_estimators': [1, 5, 10, 20, 30, 40, 50],\n",
    "}\n",
    "\n",
    "# Create a based model\n",
    "rf = RandomForestClassifier()\n",
    "# Instantiate the grid search model\n",
    "clf_rf = RandomizedSearchCV(estimator=rf, param_distributions=param_grid,\n",
    "                         cv=5, n_jobs=n_jobs, verbose=2, n_iter=12)\n",
    "clf_rf.fit(x_train_encoded, y_train)\n",
    "rf_metrics = pd.DataFrame(clf_rf.cv_results_)"
   ]
  },
  {
   "cell_type": "code",
   "execution_count": 19,
   "metadata": {
    "colab": {
     "base_uri": "https://localhost:8080/",
     "height": 391
    },
    "executionInfo": {
     "elapsed": 878370,
     "status": "error",
     "timestamp": 1619740036072,
     "user": {
      "displayName": "Lucas Cunha",
      "photoUrl": "https://lh3.googleusercontent.com/a-/AOh14GjTd3EBIxXr8O8LdNhC2abfwcqDQU3ZEIcwIw8fEDM=s64",
      "userId": "13851762687289508492"
     },
     "user_tz": 180
    },
    "id": "ed-eY0nQ3KRU",
    "outputId": "aa046ad1-573e-48a2-caff-92b6aaa189ed"
   },
   "outputs": [
    {
     "name": "stdout",
     "output_type": "stream",
     "text": [
      "Fitting 5 folds for each of 10 candidates, totalling 50 fits\n"
     ]
    },
    {
     "name": "stderr",
     "output_type": "stream",
     "text": [
      "c:\\users\\weldl\\miniconda3\\envs\\i2a2-nlp\\lib\\site-packages\\sklearn\\neighbors\\_classification.py:179: DataConversionWarning: A column-vector y was passed when a 1d array was expected. Please change the shape of y to (n_samples,), for example using ravel().\n",
      "  return self._fit(X, y)\n"
     ]
    }
   ],
   "source": [
    "# Create the parameter grid based on the results of random search \n",
    "param_grid = {'metric': ['minkowski', 'euclidean', 'manhattan'],\n",
    "              'weights': ['uniform', 'distance'],\n",
    "              'n_neighbors': np.array([3, 4, 5, 6, 7, 8, 9])}\n",
    "\n",
    "# Create a based model\n",
    "knn = KNeighborsClassifier()\n",
    "# Instantiate the grid search model\n",
    "clf_knn = RandomizedSearchCV(estimator=knn, param_distributions=param_grid,\n",
    "                             cv=5, n_jobs=n_jobs, verbose=2, n_iter=8)\n",
    "clf_knn.fit(x_train_encoded, y_train)\n",
    "knn_metrics = pd.DataFrame(clf_knn.cv_results_)"
   ]
  },
  {
   "cell_type": "code",
   "execution_count": 20,
   "metadata": {
    "executionInfo": {
     "elapsed": 2625234,
     "status": "aborted",
     "timestamp": 1619739126969,
     "user": {
      "displayName": "Lucas Cunha",
      "photoUrl": "https://lh3.googleusercontent.com/a-/AOh14GjTd3EBIxXr8O8LdNhC2abfwcqDQU3ZEIcwIw8fEDM=s64",
      "userId": "13851762687289508492"
     },
     "user_tz": 180
    },
    "id": "V5M42p1bCLGP"
   },
   "outputs": [
    {
     "data": {
      "image/png": "[encoded data removed]",
      "text/plain": [
       "<Figure size 576x288 with 1 Axes>"
      ]
     },
     "metadata": {
      "needs_background": "light"
     },
     "output_type": "display_data"
    }
   ],
   "source": [
    "estimators_list = [clf_rf, clf_knn]\n",
    "plot_estimators_cvperf(estimators_list)"
   ]
  },
  {
   "cell_type": "code",
   "execution_count": 21,
   "metadata": {
    "executionInfo": {
     "elapsed": 2625222,
     "status": "aborted",
     "timestamp": 1619739126973,
     "user": {
      "displayName": "Lucas Cunha",
      "photoUrl": "https://lh3.googleusercontent.com/a-/AOh14GjTd3EBIxXr8O8LdNhC2abfwcqDQU3ZEIcwIw8fEDM=s64",
      "userId": "13851762687289508492"
     },
     "user_tz": 180
    },
    "id": "zbSaIeGgEZyO"
   },
   "outputs": [
    {
     "name": "stderr",
     "output_type": "stream",
     "text": [
      "<ipython-input-21-3179d4adfa7c>:4: DataConversionWarning: A column-vector y was passed when a 1d array was expected. Please change the shape of y to (n_samples,), for example using ravel().\n",
      "  model = clf_opt.best_estimator_.fit(x_train_encoded, y_train)\n"
     ]
    },
    {
     "data": {
      "text/plain": [
       "RandomForestClassifier(bootstrap=False, max_depth=50, min_samples_leaf=9,\n",
       "                       min_samples_split=16, n_estimators=10)"
      ]
     },
     "execution_count": 21,
     "metadata": {},
     "output_type": "execute_result"
    }
   ],
   "source": [
    "# Selecting the optimal model and Re-fiting with the whole training dataset:\n",
    "estimators_cvperf = [pd.DataFrame(estimator.cv_results_)['mean_test_score'].max() for estimator in estimators_list]\n",
    "clf_opt = estimators_list[np.argmax(estimators_cvperf)]\n",
    "model = clf_opt.best_estimator_.fit(x_train_encoded, y_train)\n",
    "model"
   ]
  },
  {
   "cell_type": "code",
   "execution_count": null,
   "metadata": {},
   "outputs": [],
   "source": []
  },
  {
   "cell_type": "markdown",
   "metadata": {
    "id": "Q4ZjjZ5CGgBH"
   },
   "source": [
    "# Submission"
   ]
  },
  {
   "cell_type": "code",
   "execution_count": 22,
   "metadata": {
    "executionInfo": {
     "elapsed": 2625216,
     "status": "aborted",
     "timestamp": 1619739126974,
     "user": {
      "displayName": "Lucas Cunha",
      "photoUrl": "https://lh3.googleusercontent.com/a-/AOh14GjTd3EBIxXr8O8LdNhC2abfwcqDQU3ZEIcwIw8fEDM=s64",
      "userId": "13851762687289508492"
     },
     "user_tz": 180
    },
    "id": "_el2wl8AFO2N"
   },
   "outputs": [
    {
     "data": {
      "text/html": [
       "<div>\n",
       "<style scoped>\n",
       "    .dataframe tbody tr th:only-of-type {\n",
       "        vertical-align: middle;\n",
       "    }\n",
       "\n",
       "    .dataframe tbody tr th {\n",
       "        vertical-align: top;\n",
       "    }\n",
       "\n",
       "    .dataframe thead th {\n",
       "        text-align: right;\n",
       "    }\n",
       "</style>\n",
       "<table border=\"1\" class=\"dataframe\">\n",
       "  <thead>\n",
       "    <tr style=\"text-align: right;\">\n",
       "      <th></th>\n",
       "      <th>id</th>\n",
       "      <th>rating</th>\n",
       "    </tr>\n",
       "  </thead>\n",
       "  <tbody>\n",
       "    <tr>\n",
       "      <th>0</th>\n",
       "      <td>0</td>\n",
       "      <td>4</td>\n",
       "    </tr>\n",
       "    <tr>\n",
       "      <th>1</th>\n",
       "      <td>1</td>\n",
       "      <td>1</td>\n",
       "    </tr>\n",
       "    <tr>\n",
       "      <th>2</th>\n",
       "      <td>2</td>\n",
       "      <td>3</td>\n",
       "    </tr>\n",
       "    <tr>\n",
       "      <th>3</th>\n",
       "      <td>3</td>\n",
       "      <td>1</td>\n",
       "    </tr>\n",
       "    <tr>\n",
       "      <th>4</th>\n",
       "      <td>4</td>\n",
       "      <td>1</td>\n",
       "    </tr>\n",
       "    <tr>\n",
       "      <th>...</th>\n",
       "      <td>...</td>\n",
       "      <td>...</td>\n",
       "    </tr>\n",
       "    <tr>\n",
       "      <th>39707</th>\n",
       "      <td>39707</td>\n",
       "      <td>1</td>\n",
       "    </tr>\n",
       "    <tr>\n",
       "      <th>39708</th>\n",
       "      <td>39708</td>\n",
       "      <td>5</td>\n",
       "    </tr>\n",
       "    <tr>\n",
       "      <th>39709</th>\n",
       "      <td>39709</td>\n",
       "      <td>1</td>\n",
       "    </tr>\n",
       "    <tr>\n",
       "      <th>39710</th>\n",
       "      <td>39710</td>\n",
       "      <td>4</td>\n",
       "    </tr>\n",
       "    <tr>\n",
       "      <th>39711</th>\n",
       "      <td>39711</td>\n",
       "      <td>1</td>\n",
       "    </tr>\n",
       "  </tbody>\n",
       "</table>\n",
       "<p>39712 rows × 2 columns</p>\n",
       "</div>"
      ],
      "text/plain": [
       "          id  rating\n",
       "0          0       4\n",
       "1          1       1\n",
       "2          2       3\n",
       "3          3       1\n",
       "4          4       1\n",
       "...      ...     ...\n",
       "39707  39707       1\n",
       "39708  39708       5\n",
       "39709  39709       1\n",
       "39710  39710       4\n",
       "39711  39711       1\n",
       "\n",
       "[39712 rows x 2 columns]"
      ]
     },
     "execution_count": 22,
     "metadata": {},
     "output_type": "execute_result"
    }
   ],
   "source": [
    "rating = model.predict(x_test_encoded)\n",
    "df_submission = pd.DataFrame({\"id\": [i for i in range(x_test_encoded.shape[0])],\n",
    "                              \"rating\": rating})\n",
    "df_submission"
   ]
  },
  {
   "cell_type": "code",
   "execution_count": 23,
   "metadata": {
    "executionInfo": {
     "elapsed": 2625209,
     "status": "aborted",
     "timestamp": 1619739126974,
     "user": {
      "displayName": "Lucas Cunha",
      "photoUrl": "https://lh3.googleusercontent.com/a-/AOh14GjTd3EBIxXr8O8LdNhC2abfwcqDQU3ZEIcwIw8fEDM=s64",
      "userId": "13851762687289508492"
     },
     "user_tz": 180
    },
    "id": "RpAF5dHAGrca"
   },
   "outputs": [],
   "source": [
    "submition_file = './submition_file.csv'\n",
    "df_submission.to_csv(submition_file, index=False)"
   ]
  },
  {
   "cell_type": "code",
   "execution_count": 24,
   "metadata": {
    "executionInfo": {
     "elapsed": 2625206,
     "status": "aborted",
     "timestamp": 1619739126975,
     "user": {
      "displayName": "Lucas Cunha",
      "photoUrl": "https://lh3.googleusercontent.com/a-/AOh14GjTd3EBIxXr8O8LdNhC2abfwcqDQU3ZEIcwIw8fEDM=s64",
      "userId": "13851762687289508492"
     },
     "user_tz": 180
    },
    "id": "z6L9kZH5Gpl8"
   },
   "outputs": [],
   "source": [
    "# !kaggle competitions list"
   ]
  },
  {
   "cell_type": "code",
   "execution_count": 25,
   "metadata": {
    "executionInfo": {
     "elapsed": 2625200,
     "status": "aborted",
     "timestamp": 1619739126975,
     "user": {
      "displayName": "Lucas Cunha",
      "photoUrl": "https://lh3.googleusercontent.com/a-/AOh14GjTd3EBIxXr8O8LdNhC2abfwcqDQU3ZEIcwIw8fEDM=s64",
      "userId": "13851762687289508492"
     },
     "user_tz": 180
    },
    "id": "BM_WRW92FO72"
   },
   "outputs": [],
   "source": [
    "# !kaggle competitions submit -c i2a2-nlp-2021-sentiment-analysis -f submition_file.csv -m \"Model 03: tfidf vectorizer full\""
   ]
  },
  {
   "cell_type": "code",
   "execution_count": null,
   "metadata": {
    "executionInfo": {
     "elapsed": 2625196,
     "status": "aborted",
     "timestamp": 1619739126975,
     "user": {
      "displayName": "Lucas Cunha",
      "photoUrl": "https://lh3.googleusercontent.com/a-/AOh14GjTd3EBIxXr8O8LdNhC2abfwcqDQU3ZEIcwIw8fEDM=s64",
      "userId": "13851762687289508492"
     },
     "user_tz": 180
    },
    "id": "2BC9eSPGG1ng"
   },
   "outputs": [],
   "source": []
  }
 ],
 "metadata": {
  "colab": {
   "authorship_tag": "ABX9TyOUiXeTqAnjcQnvk+UyEeDv",
   "collapsed_sections": [],
   "mount_file_id": "18u1dt3f3udsVvLaOK8nqyVUY2CDE215U",
   "name": "nlp_sa03 - TfidfVectorizer full.ipynb",
   "provenance": []
  },
  "kernelspec": {
   "display_name": "Python 3",
   "language": "python",
   "name": "python3"
  },
  "language_info": {
   "codemirror_mode": {
    "name": "ipython",
    "version": 3
   },
   "file_extension": ".py",
   "mimetype": "text/x-python",
   "name": "python",
   "nbconvert_exporter": "python",
   "pygments_lexer": "ipython3",
   "version": "3.8.5"
  }
 },
 "nbformat": 4,
 "nbformat_minor": 4
}
